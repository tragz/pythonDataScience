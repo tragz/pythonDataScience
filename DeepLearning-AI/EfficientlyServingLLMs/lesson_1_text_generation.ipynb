{
 "cells": [
  {
   "cell_type": "markdown",
   "source": [
    "prefill\n",
    "decode\n",
    "optimize: kv cache - fasten computation"
   ],
   "metadata": {
    "collapsed": false
   },
   "id": "5fab10ed2641b581"
  },
  {
   "cell_type": "code",
   "outputs": [],
   "source": [
    "import matplotlib.pyplot as plt\n",
    "import numpy as np\n",
    "import time\n",
    "import torch\n",
    "from transformers import AutoModelForCausalLM, AutoTokenizer"
   ],
   "metadata": {
    "collapsed": true,
    "ExecuteTime": {
     "end_time": "2025-02-24T13:09:19.523905Z",
     "start_time": "2025-02-24T13:09:12.414641Z"
    }
   },
   "id": "initial_id",
   "execution_count": 1
  },
  {
   "cell_type": "code",
   "outputs": [],
   "source": [
    "model_name = \"gpt2\"\n",
    "tokenizer = AutoTokenizer.from_pretrained(model_name)\n",
    "model = AutoModelForCausalLM.from_pretrained(model_name)"
   ],
   "metadata": {
    "collapsed": false,
    "ExecuteTime": {
     "end_time": "2025-02-24T13:12:03.014755Z",
     "start_time": "2025-02-24T13:12:00.784742Z"
    }
   },
   "id": "390c25f06effe571",
   "execution_count": 3
  },
  {
   "cell_type": "code",
   "outputs": [
    {
     "name": "stdout",
     "output_type": "stream",
     "text": [
      "ls: ./models/gpt2: No such file or directory\r\n"
     ]
    }
   ],
   "source": [
    "!ls -l ./models/gpt2"
   ],
   "metadata": {
    "collapsed": false,
    "ExecuteTime": {
     "end_time": "2025-02-24T13:12:22.213107Z",
     "start_time": "2025-02-24T13:12:22.056044Z"
    }
   },
   "id": "353c5923c030c770",
   "execution_count": 4
  },
  {
   "cell_type": "code",
   "outputs": [
    {
     "name": "stdout",
     "output_type": "stream",
     "text": [
      "\u001B[34mdatasets--cais--mmlu\u001B[m\u001B[m\r\n",
      "\u001B[34mmodels--BAAI--bge-small-en\u001B[m\u001B[m\r\n",
      "\u001B[34mmodels--EleutherAI--gpt-j-6b\u001B[m\u001B[m\r\n",
      "\u001B[34mmodels--EleutherAI--pythia-410m\u001B[m\u001B[m\r\n",
      "\u001B[34mmodels--Salesforce--SFR-Embedding-2_R\u001B[m\u001B[m\r\n",
      "\u001B[34mmodels--Salesforce--SFR-Embedding-Mistral\u001B[m\u001B[m\r\n",
      "\u001B[34mmodels--Salesforce--blip-image-captioning-base\u001B[m\u001B[m\r\n",
      "\u001B[34mmodels--Salesforce--codegen-2B-mono\u001B[m\u001B[m\r\n",
      "\u001B[34mmodels--Salesforce--codegen2-7B\u001B[m\u001B[m\r\n",
      "\u001B[34mmodels--Salesforce--codegen25-7b-multi\u001B[m\u001B[m\r\n",
      "\u001B[34mmodels--Salesforce--codet5-base\u001B[m\u001B[m\r\n",
      "\u001B[34mmodels--Salesforce--xLAM-v0.1-r\u001B[m\u001B[m\r\n",
      "\u001B[34mmodels--Salesforce--xgen-7b-8k-base\u001B[m\u001B[m\r\n",
      "\u001B[34mmodels--TinyLlama--TinyLlama-1.1B-Chat-v1.0\u001B[m\u001B[m\r\n",
      "\u001B[34mmodels--Writer--palmyra-small\u001B[m\u001B[m\r\n",
      "\u001B[34mmodels--bert-base-cased\u001B[m\u001B[m\r\n",
      "\u001B[34mmodels--bert-base-cased-finetuned-mrpc\u001B[m\u001B[m\r\n",
      "\u001B[34mmodels--bert-base-uncased\u001B[m\u001B[m\r\n",
      "\u001B[34mmodels--camembert-base\u001B[m\u001B[m\r\n",
      "\u001B[34mmodels--deepseek-ai--DeepSeek-R1-Distill-Qwen-32B\u001B[m\u001B[m\r\n",
      "\u001B[34mmodels--deepset--bert-base-cased-squad2\u001B[m\u001B[m\r\n",
      "\u001B[34mmodels--distilbert--distilbert-base-uncased-finetuned-sst-2-english\u001B[m\u001B[m\r\n",
      "\u001B[34mmodels--distilbert-base-cased\u001B[m\u001B[m\r\n",
      "\u001B[34mmodels--distilbert-base-cased-distilled-squad\u001B[m\u001B[m\r\n",
      "\u001B[34mmodels--distilbert-base-uncased\u001B[m\u001B[m\r\n",
      "\u001B[34mmodels--distilbert-base-uncased-finetuned-sst-2-english\u001B[m\u001B[m\r\n",
      "\u001B[34mmodels--distilroberta-base\u001B[m\u001B[m\r\n",
      "\u001B[34mmodels--facebook--bart-base\u001B[m\u001B[m\r\n",
      "\u001B[34mmodels--facebook--bart-large\u001B[m\u001B[m\r\n",
      "\u001B[34mmodels--facebook--bart-large-cnn\u001B[m\u001B[m\r\n",
      "\u001B[34mmodels--facebook--bart-large-mnli\u001B[m\u001B[m\r\n",
      "\u001B[34mmodels--facebook--blenderbot-400M-distill\u001B[m\u001B[m\r\n",
      "\u001B[34mmodels--facebook--detr-resnet-50\u001B[m\u001B[m\r\n",
      "\u001B[34mmodels--facebook--nllb-200-distilled-600M\u001B[m\u001B[m\r\n",
      "\u001B[34mmodels--google--flan-t5-small\u001B[m\u001B[m\r\n",
      "\u001B[34mmodels--gpt-2\u001B[m\u001B[m\r\n",
      "\u001B[34mmodels--gpt2\u001B[m\u001B[m\r\n",
      "\u001B[34mmodels--hf-internal-testing--tiny-random-gptj\u001B[m\u001B[m\r\n",
      "\u001B[34mmodels--intfloat--e5-base-v2\u001B[m\u001B[m\r\n",
      "\u001B[34mmodels--intfloat--e5-large-v2\u001B[m\u001B[m\r\n",
      "\u001B[34mmodels--intfloat--multilingual-e5-large\u001B[m\u001B[m\r\n",
      "\u001B[34mmodels--lmsys--vicuna-7b-v1.5\u001B[m\u001B[m\r\n",
      "\u001B[34mmodels--mistralai--Mistral-Nemo-Base-2407\u001B[m\u001B[m\r\n",
      "\u001B[34mmodels--mistralai--Mixtral-8x7B-Instruct-v0.1\u001B[m\u001B[m\r\n",
      "\u001B[34mmodels--openai--whisper-large-v3\u001B[m\u001B[m\r\n",
      "\u001B[34mmodels--openai-gpt\u001B[m\u001B[m\r\n",
      "\u001B[34mmodels--pyannote--segmentation-3.0\u001B[m\u001B[m\r\n",
      "\u001B[34mmodels--pyannote--wespeaker-voxceleb-resnet34-LM\u001B[m\u001B[m\r\n",
      "\u001B[34mmodels--roberta-base\u001B[m\u001B[m\r\n",
      "\u001B[34mmodels--roberta-large-mnli\u001B[m\u001B[m\r\n",
      "\u001B[34mmodels--sentence-transformers--all-MiniLM-L6-v2\u001B[m\u001B[m\r\n",
      "\u001B[34mmodels--sentence-transformers--all-mpnet-base-v2\u001B[m\u001B[m\r\n",
      "\u001B[34mmodels--sentence-transformers--average_word_embeddings_komninos\u001B[m\u001B[m\r\n",
      "\u001B[34mmodels--sentence-transformers--clip-ViT-B-32-multilingual-v1\u001B[m\u001B[m\r\n",
      "\u001B[34mmodels--t5-base\u001B[m\u001B[m\r\n",
      "\u001B[34mmodels--tiiuae--falcon-7b-instruct\u001B[m\u001B[m\r\n",
      "\u001B[34mmodels--timm--resnet50.a1_in1k\u001B[m\u001B[m\r\n",
      "\u001B[34mmodels--upstage--SOLAR-10.7B-v1.0\u001B[m\u001B[m\r\n",
      "\u001B[34mmodels--upstage--TinySolar-248m-4k\u001B[m\u001B[m\r\n",
      "\u001B[34mmodels--upstage--TinySolar-248m-4k-code-instruct\u001B[m\u001B[m\r\n",
      "\u001B[34mmodels--upstage--TinySolar-248m-4k-py\u001B[m\u001B[m\r\n",
      "\u001B[34mmodels--xlm-roberta-base\u001B[m\u001B[m\r\n",
      "\u001B[34mmodels--xlnet-base-cased\u001B[m\u001B[m\r\n",
      "tmpjrmumpal\r\n",
      "tmplr4p76hr\r\n",
      "version.txt\r\n"
     ]
    }
   ],
   "source": [
    "!ls ~/.cache/huggingface/hub/"
   ],
   "metadata": {
    "collapsed": false,
    "ExecuteTime": {
     "end_time": "2025-02-24T13:12:54.963655Z",
     "start_time": "2025-02-24T13:12:54.819247Z"
    }
   },
   "id": "a079df5c6e734254",
   "execution_count": 6
  },
  {
   "cell_type": "code",
   "outputs": [
    {
     "name": "stdout",
     "output_type": "stream",
     "text": [
      "GPT2LMHeadModel(\n",
      "  (transformer): GPT2Model(\n",
      "    (wte): Embedding(50257, 768)\n",
      "    (wpe): Embedding(1024, 768)\n",
      "    (drop): Dropout(p=0.1, inplace=False)\n",
      "    (h): ModuleList(\n",
      "      (0-11): 12 x GPT2Block(\n",
      "        (ln_1): LayerNorm((768,), eps=1e-05, elementwise_affine=True)\n",
      "        (attn): GPT2Attention(\n",
      "          (c_attn): Conv1D(nf=2304, nx=768)\n",
      "          (c_proj): Conv1D(nf=768, nx=768)\n",
      "          (attn_dropout): Dropout(p=0.1, inplace=False)\n",
      "          (resid_dropout): Dropout(p=0.1, inplace=False)\n",
      "        )\n",
      "        (ln_2): LayerNorm((768,), eps=1e-05, elementwise_affine=True)\n",
      "        (mlp): GPT2MLP(\n",
      "          (c_fc): Conv1D(nf=3072, nx=768)\n",
      "          (c_proj): Conv1D(nf=768, nx=3072)\n",
      "          (act): NewGELUActivation()\n",
      "          (dropout): Dropout(p=0.1, inplace=False)\n",
      "        )\n",
      "      )\n",
      "    )\n",
      "    (ln_f): LayerNorm((768,), eps=1e-05, elementwise_affine=True)\n",
      "  )\n",
      "  (lm_head): Linear(in_features=768, out_features=50257, bias=False)\n",
      ")\n"
     ]
    }
   ],
   "source": [
    "print(model)"
   ],
   "metadata": {
    "collapsed": false,
    "ExecuteTime": {
     "end_time": "2025-02-24T13:13:21.566858Z",
     "start_time": "2025-02-24T13:13:21.562552Z"
    }
   },
   "id": "40c2c06d906c1b80",
   "execution_count": 7
  },
  {
   "cell_type": "code",
   "outputs": [
    {
     "name": "stdout",
     "output_type": "stream",
     "text": [
      "['Hello', ',', 'Ġhow', 'Ġare', 'Ġyou', '?']\n"
     ]
    }
   ],
   "source": [
    "text = \"Hello, how are you?\"\n",
    "tokens = tokenizer.tokenize(text)\n",
    "print(tokens)"
   ],
   "metadata": {
    "collapsed": false,
    "ExecuteTime": {
     "end_time": "2025-02-24T13:19:51.227424Z",
     "start_time": "2025-02-24T13:19:51.224081Z"
    }
   },
   "id": "931fb39587861d77",
   "execution_count": 9
  },
  {
   "cell_type": "code",
   "outputs": [
    {
     "name": "stdout",
     "output_type": "stream",
     "text": [
      "[15496, 11, 703, 389, 345, 30]\n"
     ]
    }
   ],
   "source": [
    "token_ids = tokenizer.convert_tokens_to_ids(tokens)\n",
    "print(token_ids)"
   ],
   "metadata": {
    "collapsed": false,
    "ExecuteTime": {
     "end_time": "2025-02-24T13:20:21.138961Z",
     "start_time": "2025-02-24T13:20:21.132947Z"
    }
   },
   "id": "4ef44a2c011ec50e",
   "execution_count": 10
  },
  {
   "cell_type": "code",
   "outputs": [
    {
     "name": "stdout",
     "output_type": "stream",
     "text": [
      "[15496, 11, 703, 389, 345, 30]\n"
     ]
    }
   ],
   "source": [
    "token_ids = tokenizer.encode(text)\n",
    "print(token_ids)"
   ],
   "metadata": {
    "collapsed": false,
    "ExecuteTime": {
     "end_time": "2025-02-24T13:21:04.849839Z",
     "start_time": "2025-02-24T13:21:04.844107Z"
    }
   },
   "id": "94cce3a61de9b5ae",
   "execution_count": 11
  },
  {
   "cell_type": "code",
   "outputs": [
    {
     "name": "stdout",
     "output_type": "stream",
     "text": [
      "['Hello', ',', 'Ġhow', 'Ġare', 'Ġyou', '?']\n"
     ]
    }
   ],
   "source": [
    "tokens = tokenizer.convert_ids_to_tokens(token_ids)\n",
    "print(tokens)"
   ],
   "metadata": {
    "collapsed": false,
    "ExecuteTime": {
     "end_time": "2025-02-24T13:21:45.357732Z",
     "start_time": "2025-02-24T13:21:45.352108Z"
    }
   },
   "id": "bec8f87bab642152",
   "execution_count": 12
  },
  {
   "cell_type": "code",
   "outputs": [
    {
     "data": {
      "text/plain": "'Hello, how are you?'"
     },
     "execution_count": 15,
     "metadata": {},
     "output_type": "execute_result"
    }
   ],
   "source": [
    "tokenizer.decode(token_ids)"
   ],
   "metadata": {
    "collapsed": false,
    "ExecuteTime": {
     "end_time": "2025-02-24T13:23:39.706838Z",
     "start_time": "2025-02-24T13:23:39.699769Z"
    }
   },
   "id": "f03d5de296bb4471",
   "execution_count": 15
  },
  {
   "cell_type": "markdown",
   "source": [
    "### Text Generation"
   ],
   "metadata": {
    "collapsed": false
   },
   "id": "a3ddb9a76b577695"
  },
  {
   "cell_type": "code",
   "outputs": [
    {
     "data": {
      "text/plain": "{'input_ids': tensor([[  464,  2068,  7586, 21831, 11687,   625,   262]]), 'attention_mask': tensor([[1, 1, 1, 1, 1, 1, 1]])}"
     },
     "execution_count": 22,
     "metadata": {},
     "output_type": "execute_result"
    }
   ],
   "source": [
    "prompt = \"The quick brown fox jumped over the\"\n",
    "inputs = tokenizer(prompt, return_tensors=\"pt\")\n",
    "inputs"
   ],
   "metadata": {
    "collapsed": false,
    "ExecuteTime": {
     "end_time": "2025-02-24T13:28:16.861602Z",
     "start_time": "2025-02-24T13:28:16.853484Z"
    }
   },
   "id": "e91c87700aa16d35",
   "execution_count": 22
  },
  {
   "cell_type": "markdown",
   "source": [
    "#### \n",
    " - Pass the inputs to the model and retrieve the logits to find the most likely next token"
   ],
   "metadata": {
    "collapsed": false
   },
   "id": "2b858d10e5c1ec74"
  },
  {
   "cell_type": "code",
   "outputs": [
    {
     "name": "stdout",
     "output_type": "stream",
     "text": [
      "torch.Size([1, 7, 50257])\n"
     ]
    }
   ],
   "source": [
    "with torch.no_grad():\n",
    "    outputs = model(**inputs)\n",
    "\n",
    "logits = outputs.logits\n",
    "print(logits.shape)"
   ],
   "metadata": {
    "collapsed": false,
    "ExecuteTime": {
     "end_time": "2025-02-24T13:28:46.373298Z",
     "start_time": "2025-02-24T13:28:46.340686Z"
    }
   },
   "id": "85cba0fae9134458",
   "execution_count": 24
  },
  {
   "cell_type": "code",
   "outputs": [
    {
     "name": "stdout",
     "output_type": "stream",
     "text": [
      "tensor([[-92.9352, -92.3160, -96.0634,  ..., -95.3959, -96.1432, -94.6931]])\n",
      "tensor(13990)\n"
     ]
    }
   ],
   "source": [
    "last_token_logits = logits[:,-1, :]\n",
    "next_token_id = last_token_logits.argmax()\n",
    "next_token_id\n",
    "print(last_token_logits)\n",
    "print(next_token_id)"
   ],
   "metadata": {
    "collapsed": false,
    "ExecuteTime": {
     "end_time": "2025-02-24T13:49:21.305431Z",
     "start_time": "2025-02-24T13:49:21.298683Z"
    }
   },
   "id": "f57e6bbafd07160e",
   "execution_count": 32
  },
  {
   "cell_type": "code",
   "outputs": [
    {
     "name": "stdout",
     "output_type": "stream",
     "text": [
      "tensor([13990])\n",
      " fence\n"
     ]
    }
   ],
   "source": [
    "# Get the predicted token\n",
    "predicted_token_id = torch.argmax(last_token_logits, dim=-1)\n",
    "print(predicted_token_id)\n",
    "predicted_word = tokenizer.decode(predicted_token_id)\n",
    "print(predicted_word)"
   ],
   "metadata": {
    "collapsed": false,
    "ExecuteTime": {
     "end_time": "2025-02-24T13:37:03.241830Z",
     "start_time": "2025-02-24T13:37:03.239138Z"
    }
   },
   "id": "f1eb27d50b1e22ca",
   "execution_count": 28
  },
  {
   "cell_type": "code",
   "outputs": [
    {
     "name": "stderr",
     "output_type": "stream",
     "text": [
      "Setting `pad_token_id` to `eos_token_id`:50256 for open-end generation.\n"
     ]
    },
    {
     "name": "stdout",
     "output_type": "stream",
     "text": [
      "The quick brown fox jumped over the fence and ran to the other side of the fence. He was about to run when he saw the\n"
     ]
    }
   ],
   "source": [
    "## Generate a Full Sentence (Autoregressive )\n",
    "generated_ids = model.generate(**inputs)\n",
    "generated_text = tokenizer.decode(generated_ids[0], skip_special_tokens=True)\n",
    "print(generated_text)"
   ],
   "metadata": {
    "collapsed": false,
    "ExecuteTime": {
     "end_time": "2025-02-24T13:39:24.553175Z",
     "start_time": "2025-02-24T13:39:23.973840Z"
    }
   },
   "id": "6cdc5ea423fe65ab",
   "execution_count": 30
  },
  {
   "cell_type": "markdown",
   "source": [
    "#### \n",
    "- print the 10 most likely words"
   ],
   "metadata": {
    "collapsed": false
   },
   "id": "9cb7a174743a72e2"
  },
  {
   "cell_type": "code",
   "outputs": [
    {
     "data": {
      "text/plain": "[' fence edge railing wall table tree top counter ground side']"
     },
     "execution_count": 31,
     "metadata": {},
     "output_type": "execute_result"
    }
   ],
   "source": [
    "top_k  = torch.topk(last_token_logits, k = 10)\n",
    "tokens = [tokenizer.decode(tk) for tk in top_k.indices]\n",
    "tokens"
   ],
   "metadata": {
    "collapsed": false,
    "ExecuteTime": {
     "end_time": "2025-02-24T13:44:18.413659Z",
     "start_time": "2025-02-24T13:44:18.408719Z"
    }
   },
   "id": "29c5017114b63612",
   "execution_count": 31
  },
  {
   "cell_type": "markdown",
   "source": [
    "#### \n",
    "\n",
    "- Concatenate the input and most likely tokens"
   ],
   "metadata": {
    "collapsed": false
   },
   "id": "db6726c69d05f008"
  },
  {
   "cell_type": "code",
   "outputs": [
    {
     "name": "stdout",
     "output_type": "stream",
     "text": [
      "tensor([[  464,  2068,  7586, 21831, 11687,   625,   262, 13990]]) torch.Size([1, 8])\n",
      "tensor([[1, 1, 1, 1, 1, 1, 1, 1]]) torch.Size([1, 8])\n"
     ]
    }
   ],
   "source": [
    "next_inputs = {\n",
    "    \"input_ids\": torch.cat(\n",
    "      [inputs[\"input_ids\"], next_token_id.reshape((1,1))], dim=1  \n",
    "    ),\n",
    "    \"attention_mask\" : torch.cat(\n",
    "        [inputs[\"attention_mask\"], torch.tensor([[1]])], dim =1\n",
    "    )\n",
    "}\n",
    "\n",
    "print(next_inputs[\"input_ids\"],  next_inputs[\"input_ids\"].shape)\n",
    "print(next_inputs[\"attention_mask\"],\n",
    "      next_inputs[\"attention_mask\"].shape)"
   ],
   "metadata": {
    "collapsed": false,
    "ExecuteTime": {
     "end_time": "2025-02-24T13:52:54.162208Z",
     "start_time": "2025-02-24T13:52:54.152147Z"
    }
   },
   "id": "cb0586df9e23ae3d",
   "execution_count": 33
  },
  {
   "cell_type": "markdown",
   "source": [
    "## Prefill and decode : optimizing token genearation over multiple steps"
   ],
   "metadata": {
    "collapsed": false
   },
   "id": "203bc9f7edf4868d"
  },
  {
   "cell_type": "code",
   "outputs": [],
   "source": [
    "n = 500"
   ],
   "metadata": {
    "collapsed": false,
    "ExecuteTime": {
     "end_time": "2025-02-24T15:23:33.285788Z",
     "start_time": "2025-02-24T15:23:33.267716Z"
    }
   },
   "id": "79d77869d26a3758",
   "execution_count": 66
  },
  {
   "cell_type": "code",
   "outputs": [],
   "source": [
    "def generate_token(inputs):\n",
    "    with torch.no_grad():\n",
    "        outputs = model(**inputs)\n",
    "        \n",
    "        logits = outputs.logits\n",
    "        last_logits = logits[0, -1, :]\n",
    "        next_token_id = last_logits.argmax()\n",
    "        return next_token_id\n",
    "    "
   ],
   "metadata": {
    "collapsed": false,
    "ExecuteTime": {
     "end_time": "2025-02-24T15:23:33.342161Z",
     "start_time": "2025-02-24T15:23:33.336255Z"
    }
   },
   "id": "e7d1b5dd2c5be668",
   "execution_count": 67
  },
  {
   "cell_type": "code",
   "outputs": [
    {
     "name": "stdout",
     "output_type": "stream",
     "text": [
      "65.36854243278503 s\n",
      "The quick brown fox jumped over the fence and ran to the other side of the fence. He was about to run when he saw the\n"
     ]
    }
   ],
   "source": [
    "generated_tokens = []\n",
    "next_inputs = inputs\n",
    "durations_s = []\n",
    "for _ in range(n):\n",
    "    t0 = time.time()\n",
    "    next_token_id = generate_token(next_inputs)\n",
    "    durations_s += [time.time() - t0]\n",
    "    \n",
    "    next_inputs = {\n",
    "        \"input_ids\" : torch.cat(\n",
    "            [next_inputs[\"input_ids\"], next_token_id.reshape((1,1))], dim=1\n",
    "        ),\n",
    "        \"attention_mask\" : torch.cat(\n",
    "            [next_inputs['attention_mask'], torch.tensor([[1]])], dim=1\n",
    "        ),\n",
    "    }\n",
    "    \n",
    "    next_token = tokenizer.decode(next_token_id)\n",
    "    generated_tokens.append(next_token)\n",
    "    \n",
    "print(f\"{sum(durations_s)} s\")\n",
    "print(generated_text)"
   ],
   "metadata": {
    "collapsed": false,
    "ExecuteTime": {
     "end_time": "2025-02-24T15:24:38.931138Z",
     "start_time": "2025-02-24T15:23:33.499003Z"
    }
   },
   "id": "c15b57e90f5621e1",
   "execution_count": 68
  },
  {
   "cell_type": "code",
   "outputs": [
    {
     "data": {
      "text/plain": "<Figure size 640x480 with 1 Axes>",
      "image/png": "[encoded data removed]"
     },
     "metadata": {},
     "output_type": "display_data"
    }
   ],
   "source": [
    "plt.plot(durations_s)\n",
    "plt.show()"
   ],
   "metadata": {
    "collapsed": false,
    "ExecuteTime": {
     "end_time": "2025-02-24T15:24:38.976246Z",
     "start_time": "2025-02-24T15:24:38.940271Z"
    }
   },
   "id": "6a3062ebafbb80df",
   "execution_count": 69
  },
  {
   "cell_type": "markdown",
   "source": [
    "## Speeding up text generation with KV Caching"
   ],
   "metadata": {
    "collapsed": false
   },
   "id": "6cba6b8642b2a6aa"
  },
  {
   "cell_type": "markdown",
   "source": [
    "### KV caching is a technique to speed up token generation by stroing some of the tensors in the attention head for use in subsequent generation steps\n",
    "\n",
    "- Modify the generate helper function to return the next token and the key/value tensors"
   ],
   "metadata": {
    "collapsed": false
   },
   "id": "34277b3fc646cd59"
  },
  {
   "cell_type": "code",
   "outputs": [],
   "source": [
    "def generate_token_with_past(inputs):\n",
    "    with torch.no_grad():\n",
    "        outputs = model(**inputs)\n",
    "\n",
    "    logits = outputs.logits\n",
    "    last_logits = logits[0, -1, :]\n",
    "    next_token_id = last_logits.argmax()\n",
    "    return next_token_id, outputs.past_key_values"
   ],
   "metadata": {
    "collapsed": false,
    "ExecuteTime": {
     "end_time": "2025-02-24T15:24:38.978539Z",
     "start_time": "2025-02-24T15:24:38.976698Z"
    }
   },
   "id": "82e9b911cb866fa2",
   "execution_count": 70
  },
  {
   "cell_type": "code",
   "outputs": [
    {
     "name": "stdout",
     "output_type": "stream",
     "text": [
      "11.499929904937744 s\n",
      "[' fence', ' and', ' ran', ' to', ' the', ' other', ' side', ' of', ' the', ' fence', '.', ' He', ' was', ' about', ' to', ' run', ' when', ' he', ' saw', ' the', ' fox', '.', ' He', ' ran', ' to', ' the', ' other', ' side', ' of', ' the', ' fence', ' and', ' ran', ' to', ' the', ' other', ' side', ' of', ' the', ' fence', '.', ' He', ' ran', ' to', ' the', ' other', ' side', ' of', ' the', ' fence', ' and', ' ran', ' to', ' the', ' other', ' side', ' of', ' the', ' fence', '.', ' He', ' ran', ' to', ' the', ' other', ' side', ' of', ' the', ' fence', ' and', ' ran', ' to', ' the', ' other', ' side', ' of', ' the', ' fence', '.', ' He', ' ran', ' to', ' the', ' other', ' side', ' of', ' the', ' fence', ' and', ' ran', ' to', ' the', ' other', ' side', ' of', ' the', ' fence', '.', ' He', ' ran', ' to', ' the', ' other', ' side', ' of', ' the', ' fence', ' and', ' ran', ' to', ' the', ' other', ' side', ' of', ' the', ' fence', '.', ' He', ' ran', ' to', ' the', ' other', ' side', ' of', ' the', ' fence', ' and', ' ran', ' to', ' the', ' other', ' side', ' of', ' the', ' fence', '.', ' He', ' ran', ' to', ' the', ' other', ' side', ' of', ' the', ' fence', ' and', ' ran', ' to', ' the', ' other', ' side', ' of', ' the', ' fence', '.', ' He', ' ran', ' to', ' the', ' other', ' side', ' of', ' the', ' fence', ' and', ' ran', ' to', ' the', ' other', ' side', ' of', ' the', ' fence', '.', ' He', ' ran', ' to', ' the', ' other', ' side', ' of', ' the', ' fence', ' and', ' ran', ' to', ' the', ' other', ' side', ' of', ' the', ' fence', '.', ' He', ' ran', ' to', ' the', ' other', ' side', ' of', ' the', ' fence', ' and', ' ran', ' to', ' the', ' other', ' side', ' of', ' the', ' fence', '.', ' He', ' ran', ' to', ' the', ' other', ' side', ' of', ' the', ' fence', ' and', ' ran', ' to', ' the', ' other', ' side', ' of', ' the', ' fence', '.', ' He', ' ran', ' to', ' the', ' other', ' side', ' of', ' the', ' fence', ' and', ' ran', ' to', ' the', ' other', ' side', ' of', ' the', ' fence', '.', ' He', ' ran', ' to', ' the', ' other', ' side', ' of', ' the', ' fence', ' and', ' ran', ' to', ' the', ' other', ' side', ' of', ' the', ' fence', '.', ' He', ' ran', ' to', ' the', ' other', ' side', ' of', ' the', ' fence', ' and', ' ran', ' to', ' the', ' other', ' side', ' of', ' the', ' fence', '.', ' He', ' ran', ' to', ' the', ' other', ' side', ' of', ' the', ' fence', ' and', ' ran', ' to', ' the', ' other', ' side', ' of', ' the', ' fence', '.', ' He', ' ran', ' to', ' the', ' other', ' side', ' of', ' the', ' fence', ' and', ' ran', ' to', ' the', ' other', ' side', ' of', ' the', ' fence', '.', ' He', ' ran', ' to', ' the', ' other', ' side', ' of', ' the', ' fence', ' and', ' ran', ' to', ' the', ' other', ' side', ' of', ' the', ' fence', '.', ' He', ' ran', ' to', ' the', ' other', ' side', ' of', ' the', ' fence', ' and', ' ran', ' to', ' the', ' other', ' side', ' of', ' the', ' fence', '.', ' He', ' ran', ' to', ' the', ' other', ' side', ' of', ' the', ' fence', ' and', ' ran', ' to', ' the', ' other', ' side', ' of', ' the', ' fence', '.', ' He', ' ran', ' to', ' the', ' other', ' side', ' of', ' the', ' fence', ' and', ' ran', ' to', ' the', ' other', ' side', ' of', ' the', ' fence', '.', ' He', ' ran', ' to', ' the', ' other', ' side', ' of', ' the', ' fence', ' and', ' ran', ' to', ' the', ' other', ' side', ' of', ' the', ' fence', '.', ' He', ' ran', ' to', ' the', ' other', ' side', ' of', ' the', ' fence', ' and', ' ran', ' to', ' the', ' other', ' side', ' of', ' the', ' fence', '.', ' He', ' ran', ' to', ' the', ' other', ' side', ' of', ' the', ' fence', ' and', ' ran', ' to', ' the', ' other', ' side', ' of', ' the', ' fence', '.', ' He', ' ran', ' to', ' the', ' other', ' side', ' of', ' the', ' fence', ' and', ' ran', ' to', ' the', ' other', ' side', ' of', ' the', ' fence', '.', ' He', ' ran', ' to', ' the', ' other', ' side', ' of', ' the', ' fence', ' and', ' ran', ' to', ' the', ' other', ' side', ' of', ' the', ' fence', '.', ' He', ' ran', ' to']\n"
     ]
    }
   ],
   "source": [
    "generated_tokens = []\n",
    "next_inputs = inputs\n",
    "durations_cached_s = []\n",
    "for _ in range(n):\n",
    "    t0 = time.time()\n",
    "    next_token_id, past_key_values = \\\n",
    "        generate_token_with_past(next_inputs)\n",
    "    durations_cached_s += [time.time() - t0]\n",
    "    \n",
    "    next_inputs = {\n",
    "        \"input_ids\": next_token_id.reshape((1, 1)),\n",
    "        \"attention_mask\": torch.cat(\n",
    "            [next_inputs[\"attention_mask\"], torch.tensor([[1]])],\n",
    "            dim=1),\n",
    "        \"past_key_values\": past_key_values,\n",
    "    }\n",
    "    \n",
    "    next_token = tokenizer.decode(next_token_id)\n",
    "    generated_tokens.append(next_token)\n",
    "\n",
    "print(f\"{sum(durations_cached_s)} s\")\n",
    "print(generated_tokens)"
   ],
   "metadata": {
    "collapsed": false,
    "ExecuteTime": {
     "end_time": "2025-02-24T15:24:51.096993Z",
     "start_time": "2025-02-24T15:24:38.980791Z"
    }
   },
   "id": "70bcd18d901032df",
   "execution_count": 71
  },
  {
   "cell_type": "code",
   "outputs": [
    {
     "data": {
      "text/plain": "<Figure size 640x480 with 1 Axes>",
      "image/png": "[encoded data removed]"
     },
     "metadata": {},
     "output_type": "display_data"
    }
   ],
   "source": [
    "plt.plot(durations_s)\n",
    "plt.plot(durations_cached_s)\n",
    "plt.show()"
   ],
   "metadata": {
    "collapsed": false,
    "ExecuteTime": {
     "end_time": "2025-02-24T15:24:51.136674Z",
     "start_time": "2025-02-24T15:24:51.105147Z"
    }
   },
   "id": "bfa3f5c54443189b",
   "execution_count": 72
  },
  {
   "cell_type": "code",
   "outputs": [],
   "source": [],
   "metadata": {
    "collapsed": false,
    "ExecuteTime": {
     "end_time": "2025-02-24T15:24:51.139054Z",
     "start_time": "2025-02-24T15:24:51.137034Z"
    }
   },
   "id": "79373bf1c06cee81",
   "execution_count": 72
  },
  {
   "cell_type": "code",
   "outputs": [],
   "source": [],
   "metadata": {
    "collapsed": false
   },
   "id": "94c995d4cbacabee"
  }
 ],
 "metadata": {
  "kernelspec": {
   "display_name": "Python 3",
   "language": "python",
   "name": "python3"
  },
  "language_info": {
   "codemirror_mode": {
    "name": "ipython",
    "version": 2
   },
   "file_extension": ".py",
   "mimetype": "text/x-python",
   "name": "python",
   "nbconvert_exporter": "python",
   "pygments_lexer": "ipython2",
   "version": "2.7.6"
  }
 },
 "nbformat": 4,
 "nbformat_minor": 5
}
