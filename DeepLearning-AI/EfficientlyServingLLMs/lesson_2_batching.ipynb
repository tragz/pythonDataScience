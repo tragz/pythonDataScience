{
 "cells": [
  {
   "cell_type": "code",
   "execution_count": 1,
   "id": "initial_id",
   "metadata": {
    "collapsed": true,
    "ExecuteTime": {
     "end_time": "2025-02-24T15:26:19.258579Z",
     "start_time": "2025-02-24T15:26:15.747268Z"
    }
   },
   "outputs": [],
   "source": [
    "import matplotlib.pyplot as plt\n",
    "import numpy as np\n",
    "import time\n",
    "import torch\n",
    "from transformers import AutoModelForCausalLM, AutoTokenizer\n",
    "from tqdm import tqdm"
   ]
  },
  {
   "cell_type": "code",
   "outputs": [],
   "source": [
    "model_name = \"gpt2\"\n",
    "tokenizer = AutoTokenizer.from_pretrained(model_name)\n",
    "model = AutoModelForCausalLM.from_pretrained(model_name)"
   ],
   "metadata": {
    "collapsed": false,
    "ExecuteTime": {
     "end_time": "2025-02-24T15:27:10.893890Z",
     "start_time": "2025-02-24T15:27:08.483998Z"
    }
   },
   "id": "a0d4cabb2a44d9b0",
   "execution_count": 2
  },
  {
   "cell_type": "markdown",
   "source": [
    "## Reuse KV-Cache text generation function"
   ],
   "metadata": {
    "collapsed": false
   },
   "id": "fbc61001da969bef"
  },
  {
   "cell_type": "code",
   "outputs": [
    {
     "name": "stdout",
     "output_type": "stream",
     "text": [
      " fence and ran to the other side of the fence\n"
     ]
    }
   ],
   "source": [
    "prompt = \"The quick brown fox jumped over the\"\n",
    "inputs = tokenizer(prompt, return_tensors=\"pt\")\n",
    "\n",
    "def generate_token_with_past(inputs):\n",
    "    with torch.no_grad():\n",
    "        outputs = model(**inputs)\n",
    "        \n",
    "    logits = outputs.logits\n",
    "    last_logits = logits[0, -1, :]\n",
    "    next_token_id = last_logits.argmax()\n",
    "    return next_token_id, outputs.past_key_values\n",
    "\n",
    "def generate(inputs, max_tokens):\n",
    "    generate_tokens = []\n",
    "    next_inputs = inputs \n",
    "    for _ in range(max_tokens):\n",
    "        next_token_id, past_key_values = generate_token_with_past(next_inputs)\n",
    "        next_inputs = {\n",
    "            \"input_ids\": next_token_id.reshape((1,1)),\n",
    "            \"attention_mask\" : torch.cat(\n",
    "                [next_inputs[\"attention_mask\"], torch.tensor([[1]])], dim=1\n",
    "            ),\n",
    "            \"past_key_values\" : past_key_values\n",
    "        }\n",
    "        \n",
    "        next_token = tokenizer.decode(next_token_id)\n",
    "        generate_tokens.append(next_token)\n",
    "    return \"\".join(generate_tokens)\n",
    "\n",
    "tokens = generate(inputs, max_tokens=10)\n",
    "print(tokens)\n",
    "        "
   ],
   "metadata": {
    "collapsed": false,
    "ExecuteTime": {
     "end_time": "2025-02-24T15:37:28.549484Z",
     "start_time": "2025-02-24T15:37:28.319346Z"
    }
   },
   "id": "afc9ade67fb07a43",
   "execution_count": 3
  },
  {
   "cell_type": "markdown",
   "source": [
    "## Add padding tokens to the model to prepare batches of prompt"
   ],
   "metadata": {
    "collapsed": false
   },
   "id": "8c77a50a1f08cd99"
  },
  {
   "cell_type": "code",
   "outputs": [],
   "source": [
    "tokenizer.pad_token = tokenizer.eos_token\n",
    "model.config.pad_token_id = model.config.eos_token_id\n",
    "\n",
    "# pad on the left so we can append new tokens on the right\n",
    "tokenizer.padding_side = \"left\"\n",
    "tokenizer.truncation_side = \"left\""
   ],
   "metadata": {
    "collapsed": false,
    "ExecuteTime": {
     "end_time": "2025-02-24T15:42:35.714624Z",
     "start_time": "2025-02-24T15:42:35.710646Z"
    }
   },
   "id": "dc67a67751ddf719",
   "execution_count": 4
  },
  {
   "cell_type": "markdown",
   "source": [
    "###\n",
    "\n",
    "- Tokenize list of prompts\n",
    "- Add padding so that all prompts have the same number of tokens a the longest prompt"
   ],
   "metadata": {
    "collapsed": false
   },
   "id": "763d33e35441fbd7"
  },
  {
   "cell_type": "code",
   "outputs": [],
   "source": [
    "prompts = [\n",
    "    \"The quick brown fox jumped over the\",\n",
    "    \"The rain in Spain falls\",\n",
    "    \"What comes up must\",\n",
    "]\n",
    "\n",
    "# note: padding=True ensures the padding token\n",
    "# will be inserted into the tokenized tensors\n",
    "inputs = tokenizer(prompt, padding=True, return_tensors=\"pt\")"
   ],
   "metadata": {
    "collapsed": false,
    "ExecuteTime": {
     "end_time": "2025-02-24T15:44:43.303395Z",
     "start_time": "2025-02-24T15:44:43.299819Z"
    }
   },
   "id": "7f170634bcb47e3",
   "execution_count": 5
  },
  {
   "cell_type": "code",
   "outputs": [
    {
     "name": "stdout",
     "output_type": "stream",
     "text": [
      "input_ids: tensor([[  464,  2068,  7586, 21831, 11687,   625,   262]])\n",
      "shape: torch.Size([1, 7])\n"
     ]
    }
   ],
   "source": [
    "print(\"input_ids:\", inputs[\"input_ids\"])\n",
    "print(\"shape:\", inputs[\"input_ids\"].shape)"
   ],
   "metadata": {
    "collapsed": false,
    "ExecuteTime": {
     "end_time": "2025-02-24T15:45:31.559390Z",
     "start_time": "2025-02-24T15:45:31.552908Z"
    }
   },
   "id": "79e1ce247447591a",
   "execution_count": 6
  },
  {
   "cell_type": "code",
   "outputs": [
    {
     "name": "stdout",
     "output_type": "stream",
     "text": [
      "attention_mask: tensor([[1, 1, 1, 1, 1, 1, 1]])\n",
      "shape: torch.Size([1, 7])\n"
     ]
    }
   ],
   "source": [
    "print(\"attention_mask:\", inputs[\"attention_mask\"])\n",
    "print(\"shape:\", inputs[\"attention_mask\"].shape)"
   ],
   "metadata": {
    "collapsed": false,
    "ExecuteTime": {
     "end_time": "2025-02-24T15:45:50.463649Z",
     "start_time": "2025-02-24T15:45:50.457951Z"
    }
   },
   "id": "451adfd9a986c39a",
   "execution_count": 7
  },
  {
   "cell_type": "markdown",
   "source": [
    "# \n",
    "- Add position ids to track original order of tokens in each prompt\n",
    "- Padding tokens are set to 1 and then first real token starts with position 0"
   ],
   "metadata": {
    "collapsed": false
   },
   "id": "6f554136f687c2dc"
  },
  {
   "cell_type": "code",
   "outputs": [
    {
     "data": {
      "text/plain": "tensor([[0, 1, 2, 3, 4, 5, 6]])"
     },
     "execution_count": 8,
     "metadata": {},
     "output_type": "execute_result"
    }
   ],
   "source": [
    "# position_ids tell the transformer the ordinal position\n",
    "# of each token in the input sequence\n",
    "# for single input inference, this is just [0 .. n]\n",
    "# for n tokens, but for batch inference,\n",
    "# we need to 0 out the padding tokens at the start of the sequence\n",
    "attention_mask = inputs[\"attention_mask\"]\n",
    "position_ids = attention_mask.long().cumsum(-1) - 1\n",
    "position_ids.masked_fill_(attention_mask == 0, 1)"
   ],
   "metadata": {
    "collapsed": false,
    "ExecuteTime": {
     "end_time": "2025-02-24T15:48:35.205937Z",
     "start_time": "2025-02-24T15:48:35.201478Z"
    }
   },
   "id": "c114101cdfeab5a7",
   "execution_count": 8
  },
  {
   "cell_type": "markdown",
   "source": [
    "- Pass tokens to model to calculate logits"
   ],
   "metadata": {
    "collapsed": false
   },
   "id": "99df266cbbe7ff1c"
  },
  {
   "cell_type": "code",
   "outputs": [],
   "source": [
    "with torch.no_grad():\n",
    "    outputs = model(position_ids=position_ids, **inputs)\n",
    "logits = outputs.logits"
   ],
   "metadata": {
    "collapsed": false,
    "ExecuteTime": {
     "end_time": "2025-02-24T15:49:43.317144Z",
     "start_time": "2025-02-24T15:49:43.287519Z"
    }
   },
   "id": "da1a09f3ed85b526",
   "execution_count": 9
  },
  {
   "cell_type": "markdown",
   "source": [
    "- Retrieve most likely token for each prompt"
   ],
   "metadata": {
    "collapsed": false
   },
   "id": "37cf62831e5a3a9a"
  },
  {
   "cell_type": "code",
   "outputs": [],
   "source": [
    "last_logits = logits[:, -1, :] \n",
    "next_token_ids = last_logits.argmax(dim=1) "
   ],
   "metadata": {
    "collapsed": false,
    "ExecuteTime": {
     "end_time": "2025-02-24T15:50:21.200945Z",
     "start_time": "2025-02-24T15:50:21.199680Z"
    }
   },
   "id": "75f85642a9833ede",
   "execution_count": 10
  },
  {
   "cell_type": "code",
   "outputs": [
    {
     "name": "stdout",
     "output_type": "stream",
     "text": [
      "tensor([13990])\n"
     ]
    }
   ],
   "source": [
    "print(next_token_ids)"
   ],
   "metadata": {
    "collapsed": false,
    "ExecuteTime": {
     "end_time": "2025-02-24T15:52:15.029987Z",
     "start_time": "2025-02-24T15:52:15.022882Z"
    }
   },
   "id": "c5bfb4a509e0dad6",
   "execution_count": 11
  },
  {
   "cell_type": "code",
   "outputs": [
    {
     "data": {
      "text/plain": "[' fence']"
     },
     "execution_count": 12,
     "metadata": {},
     "output_type": "execute_result"
    }
   ],
   "source": [
    "next_tokens = tokenizer.batch_decode(next_token_ids)\n",
    "next_tokens"
   ],
   "metadata": {
    "collapsed": false,
    "ExecuteTime": {
     "end_time": "2025-02-24T15:52:40.943643Z",
     "start_time": "2025-02-24T15:52:40.939140Z"
    }
   },
   "id": "ac6a0acf717131e0",
   "execution_count": 12
  },
  {
   "cell_type": "markdown",
   "source": [
    "- Generate n tokens with past"
   ],
   "metadata": {
    "collapsed": false
   },
   "id": "6a02160868829e1b"
  },
  {
   "cell_type": "code",
   "outputs": [],
   "source": [
    "def generate_batch_tokens_with_past(inputs):\n",
    "    with torch.no_grad():\n",
    "        outputs = model(**inputs)\n",
    "\n",
    "    logits = outputs.logits\n",
    "    last_logits = logits[:, -1, :]\n",
    "    next_token_ids = last_logits.argmax(dim=1)\n",
    "    return next_token_ids, outputs.past_key_values"
   ],
   "metadata": {
    "collapsed": false,
    "ExecuteTime": {
     "end_time": "2025-02-24T15:53:26.424499Z",
     "start_time": "2025-02-24T15:53:26.417645Z"
    }
   },
   "id": "2a85973654e91d6f",
   "execution_count": 13
  },
  {
   "cell_type": "markdown",
   "source": [
    "- Generate all tokens for some max tokens"
   ],
   "metadata": {
    "collapsed": false
   },
   "id": "ac54f4e139156627"
  },
  {
   "cell_type": "code",
   "outputs": [],
   "source": [
    "def generate_batch(inputs, max_tokens):\n",
    "    generated_tokens = [\n",
    "        [] for _ in range(inputs[\"input_ids\"].shape[0])\n",
    "    ]\n",
    "    \n",
    "    attention_mask = inputs[\"attention_mask\"]\n",
    "    position_ids = attention_mask.long().cumsum(-1) - 1\n",
    "    position_ids.masked_fill_(attention_mask == 0, 1)\n",
    "    \n",
    "    next_inputs = {\n",
    "        \"position_ids\" : position_ids,\n",
    "        **inputs\n",
    "    }\n",
    "    \n",
    "    for _ in range(max_tokens):\n",
    "        next_token_ids, past_key_values = \\\n",
    "            generate_batch_tokens_with_past(next_inputs)\n",
    "\n",
    "        next_inputs = {\n",
    "            \"input_ids\": next_token_ids.reshape((-1, 1)),\n",
    "            \"position_ids\": next_inputs[\"position_ids\"][:, -1].unsqueeze(-1) + 1,\n",
    "            \"attention_mask\": torch.cat([\n",
    "                next_inputs[\"attention_mask\"],\n",
    "                torch.ones((next_token_ids.shape[0], 1)),  \n",
    "            ], dim=1),\n",
    "            \"past_key_values\": past_key_values,\n",
    "        }\n",
    "\n",
    "        next_tokens = tokenizer.batch_decode(next_token_ids)\n",
    "        for i, token in enumerate(next_tokens):\n",
    "            generated_tokens[i].append(token)\n",
    "    return [\"\".join(tokens) for tokens in generated_tokens]"
   ],
   "metadata": {
    "collapsed": false,
    "ExecuteTime": {
     "end_time": "2025-02-24T15:56:54.873816Z",
     "start_time": "2025-02-24T15:56:54.867865Z"
    }
   },
   "id": "6d811e834fc9b8cd",
   "execution_count": 15
  },
  {
   "cell_type": "markdown",
   "source": [
    "- Call the generate_batch function and print out the generated tokens"
   ],
   "metadata": {
    "collapsed": false
   },
   "id": "9ecd1c40175449bd"
  },
  {
   "cell_type": "code",
   "outputs": [],
   "source": [
    "generated_tokens = generate_batch(inputs, max_tokens=10)"
   ],
   "metadata": {
    "collapsed": false,
    "ExecuteTime": {
     "end_time": "2025-02-24T15:57:20.278711Z",
     "start_time": "2025-02-24T15:57:20.032614Z"
    }
   },
   "id": "b8ccbe245ee6f5a0",
   "execution_count": 16
  },
  {
   "cell_type": "code",
   "outputs": [
    {
     "name": "stdout",
     "output_type": "stream",
     "text": [
      "The quick brown fox jumped over the \u001B[32m fence and ran to the other side of the fence\u001B[0m\n"
     ]
    }
   ],
   "source": [
    "for prompt, generated in zip(prompts, generated_tokens):\n",
    "    print(prompt, f\"\\x1b[32m{generated}\\x1b[0m\\n\")"
   ],
   "metadata": {
    "collapsed": false,
    "ExecuteTime": {
     "end_time": "2025-02-24T15:59:02.858501Z",
     "start_time": "2025-02-24T15:59:02.849868Z"
    }
   },
   "id": "2f091dc490b83e12",
   "execution_count": 17
  },
  {
   "cell_type": "markdown",
   "source": [
    "### Throughput vs Latency\n",
    "\n",
    "- Explore the effect of batching on latency (how long it takes to generate each token). \n",
    "- Observe the fundamental tradeoff that exists between throughput and latency.\n",
    "\n",
    "**Note:** Your results might differ somewhat from those shown in the video, but they will still follow the same pattern as explained by the instructor."
   ],
   "metadata": {
    "collapsed": false
   },
   "id": "5a44dbbd7497ff47"
  },
  {
   "cell_type": "code",
   "outputs": [
    {
     "name": "stdout",
     "output_type": "stream",
     "text": [
      "bs= 1\n",
      "duration 0.2175300121307373\n",
      "throughput 45.970668148494006\n",
      "avg latency 0.02175300121307373\n",
      "\n",
      "bs= 2\n",
      "duration 0.31763410568237305\n",
      "throughput 62.96553059701829\n",
      "avg latency 0.0317634105682373\n",
      "\n",
      "bs= 4\n",
      "duration 0.29025816917419434\n",
      "throughput 137.80835217765934\n",
      "avg latency 0.029025816917419435\n",
      "\n",
      "bs= 8\n",
      "duration 0.34052515029907227\n",
      "throughput 234.93125230174212\n",
      "avg latency 0.03405251502990723\n",
      "\n",
      "bs= 16\n",
      "duration 0.38998985290527344\n",
      "throughput 410.2670846640289\n",
      "avg latency 0.038998985290527345\n",
      "\n",
      "bs= 32\n",
      "duration 0.5097260475158691\n",
      "throughput 627.788204192248\n",
      "avg latency 0.050972604751586915\n",
      "\n",
      "bs= 64\n",
      "duration 0.5932040214538574\n",
      "throughput 1078.8868194646632\n",
      "avg latency 0.05932040214538574\n",
      "\n",
      "bs= 128\n",
      "duration 0.9069640636444092\n",
      "throughput 1411.3017828475352\n",
      "avg latency 0.09069640636444092\n"
     ]
    }
   ],
   "source": [
    "# constants\n",
    "max_tokens = 10\n",
    "\n",
    "# observations\n",
    "durations = []\n",
    "throughputs = []\n",
    "latencies = []\n",
    "\n",
    "batch_sizes = [2**p for p in range(8)]\n",
    "for batch_size in batch_sizes:\n",
    "    print(f\"bs= {batch_size}\")\n",
    "\n",
    "    # generate tokens for batch and record duration\n",
    "    t0 = time.time()\n",
    "    batch_prompts = [\n",
    "        prompts[i % len(prompts)] for i in range(batch_size)\n",
    "    ]\n",
    "    inputs = tokenizer(\n",
    "        batch_prompts, padding=True, return_tensors=\"pt\"\n",
    "    )\n",
    "    generated_tokens = generate_batch(inputs, max_tokens=max_tokens)\n",
    "    duration_s = time.time() - t0\n",
    "\n",
    "    ntokens = batch_size * max_tokens\n",
    "    throughput = ntokens / duration_s\n",
    "    avg_latency = duration_s / max_tokens\n",
    "    print(\"duration\", duration_s)\n",
    "    print(\"throughput\", throughput)\n",
    "    print(\"avg latency\", avg_latency)    \n",
    "    print()\n",
    "\n",
    "    durations.append(duration_s)\n",
    "    throughputs.append(throughput)\n",
    "    latencies.append(avg_latency)\n",
    "\n"
   ],
   "metadata": {
    "collapsed": false,
    "ExecuteTime": {
     "end_time": "2025-02-24T15:59:59.159438Z",
     "start_time": "2025-02-24T15:59:55.589309Z"
    }
   },
   "id": "7a02f7fd0a0a028f",
   "execution_count": 18
  },
  {
   "cell_type": "markdown",
   "source": [
    "### Let's plot the throughput and latency observations against the batch size"
   ],
   "metadata": {
    "collapsed": false
   },
   "id": "ddbc1a4fe9915b08"
  },
  {
   "cell_type": "code",
   "outputs": [],
   "source": [
    "def render_plot(x, y1, y2, x_label, y1_label, y2_label):\n",
    "    # Create a figure and a set of subplots\n",
    "    fig, ax1 = plt.subplots()\n",
    "\n",
    "    # Plot the first line (throughput)\n",
    "    color = 'tab:red'\n",
    "    ax1.set_xlabel(x_label)\n",
    "    ax1.set_ylabel(y1_label, color=color)\n",
    "    ax1.plot(x, y1, color=color)\n",
    "    ax1.tick_params(axis='y', labelcolor=color)\n",
    "\n",
    "    # Set the x-axis to be log-scaled\n",
    "    ax1.set_xscale('log', base=2)\n",
    "\n",
    "    # Instantiate a second axes that shares the same x-axis\n",
    "    ax2 = ax1.twinx()  \n",
    "    color = 'tab:blue'\n",
    "    ax2.set_ylabel(y2_label, color=color)  # we already handled the x-label with ax1\n",
    "    ax2.plot(x, y2, color=color)\n",
    "    ax2.tick_params(axis='y', labelcolor=color)\n",
    "\n",
    "    plt.show()"
   ],
   "metadata": {
    "collapsed": false,
    "ExecuteTime": {
     "end_time": "2025-02-24T16:00:41.471920Z",
     "start_time": "2025-02-24T16:00:41.461338Z"
    }
   },
   "id": "59c9c99eb557e564",
   "execution_count": 19
  },
  {
   "cell_type": "code",
   "outputs": [
    {
     "data": {
      "text/plain": "<Figure size 640x480 with 2 Axes>",
      "image/png": "[encoded data removed]"
     },
     "metadata": {},
     "output_type": "display_data"
    }
   ],
   "source": [
    "render_plot(\n",
    "    batch_sizes,\n",
    "    throughputs,\n",
    "    latencies,\n",
    "    \"Batch Size\",\n",
    "    \"Throughput\",\n",
    "    \"Latency\"\n",
    ")"
   ],
   "metadata": {
    "collapsed": false,
    "ExecuteTime": {
     "end_time": "2025-02-24T16:01:03.801718Z",
     "start_time": "2025-02-24T16:01:03.555461Z"
    }
   },
   "id": "71e8b783c3f1cc75",
   "execution_count": 20
  },
  {
   "cell_type": "code",
   "outputs": [],
   "source": [],
   "metadata": {
    "collapsed": false
   },
   "id": "80b0be3fa5366ff5"
  }
 ],
 "metadata": {
  "kernelspec": {
   "display_name": "Python 3",
   "language": "python",
   "name": "python3"
  },
  "language_info": {
   "codemirror_mode": {
    "name": "ipython",
    "version": 2
   },
   "file_extension": ".py",
   "mimetype": "text/x-python",
   "name": "python",
   "nbconvert_exporter": "python",
   "pygments_lexer": "ipython2",
   "version": "2.7.6"
  }
 },
 "nbformat": 4,
 "nbformat_minor": 5
}
