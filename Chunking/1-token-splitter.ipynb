{
 "cells": [
  {
   "cell_type": "markdown",
   "source": [
    "# Token Splitter\n",
    "\n",
    "The Token Splitter method divides text based on tokens, such a words or subwords. This approach is beneficial when working with language models that have token limits"
   ],
   "metadata": {
    "collapsed": false
   },
   "id": "43c04a605cc45b48"
  },
  {
   "cell_type": "code",
   "outputs": [],
   "source": [
    "# Importing the Token Splitter Class from langchain"
   ],
   "metadata": {
    "collapsed": false,
    "ExecuteTime": {
     "end_time": "2024-07-16T09:14:44.772249Z",
     "start_time": "2024-07-16T09:14:44.766962Z"
    }
   },
   "id": "3acddaa2a38222e8",
   "execution_count": 1
  },
  {
   "cell_type": "code",
   "outputs": [
    {
     "ename": "TypeError",
     "evalue": "TextSplitter.__init__() got an unexpected keyword argument 'max_tokens'",
     "output_type": "error",
     "traceback": [
      "\u001B[0;31m---------------------------------------------------------------------------\u001B[0m",
      "\u001B[0;31mTypeError\u001B[0m                                 Traceback (most recent call last)",
      "Cell \u001B[0;32mIn[3], line 7\u001B[0m\n\u001B[1;32m      4\u001B[0m text \u001B[38;5;241m=\u001B[39m \u001B[38;5;124m\"\u001B[39m\u001B[38;5;124mYour long document text goes here...\u001B[39m\u001B[38;5;124m\"\u001B[39m\n\u001B[1;32m      6\u001B[0m \u001B[38;5;66;03m# Initializing the TokenSplitter with a maximum token limit of 512\u001B[39;00m\n\u001B[0;32m----> 7\u001B[0m splitter \u001B[38;5;241m=\u001B[39m \u001B[43mTokenTextSplitter\u001B[49m\u001B[43m(\u001B[49m\u001B[43mmax_tokens\u001B[49m\u001B[38;5;241;43m=\u001B[39;49m\u001B[38;5;241;43m512\u001B[39;49m\u001B[43m)\u001B[49m\n\u001B[1;32m      9\u001B[0m \u001B[38;5;66;03m# Splitting the text into chunks\u001B[39;00m\n\u001B[1;32m     10\u001B[0m chunks \u001B[38;5;241m=\u001B[39m splitter\u001B[38;5;241m.\u001B[39msplit_text(text)\n",
      "File \u001B[0;32m~/Desktop/gitrepos/pythonDataScience/venv/lib/python3.12/site-packages/langchain_text_splitters/base.py:233\u001B[0m, in \u001B[0;36mTokenTextSplitter.__init__\u001B[0;34m(self, encoding_name, model_name, allowed_special, disallowed_special, **kwargs)\u001B[0m\n\u001B[1;32m    224\u001B[0m \u001B[38;5;28;01mdef\u001B[39;00m \u001B[38;5;21m__init__\u001B[39m(\n\u001B[1;32m    225\u001B[0m     \u001B[38;5;28mself\u001B[39m,\n\u001B[1;32m    226\u001B[0m     encoding_name: \u001B[38;5;28mstr\u001B[39m \u001B[38;5;241m=\u001B[39m \u001B[38;5;124m\"\u001B[39m\u001B[38;5;124mgpt2\u001B[39m\u001B[38;5;124m\"\u001B[39m,\n\u001B[0;32m   (...)\u001B[0m\n\u001B[1;32m    230\u001B[0m     \u001B[38;5;241m*\u001B[39m\u001B[38;5;241m*\u001B[39mkwargs: Any,\n\u001B[1;32m    231\u001B[0m ) \u001B[38;5;241m-\u001B[39m\u001B[38;5;241m>\u001B[39m \u001B[38;5;28;01mNone\u001B[39;00m:\n\u001B[1;32m    232\u001B[0m \u001B[38;5;250m    \u001B[39m\u001B[38;5;124;03m\"\"\"Create a new TextSplitter.\"\"\"\u001B[39;00m\n\u001B[0;32m--> 233\u001B[0m     \u001B[38;5;28;43msuper\u001B[39;49m\u001B[43m(\u001B[49m\u001B[43m)\u001B[49m\u001B[38;5;241;43m.\u001B[39;49m\u001B[38;5;21;43m__init__\u001B[39;49m\u001B[43m(\u001B[49m\u001B[38;5;241;43m*\u001B[39;49m\u001B[38;5;241;43m*\u001B[39;49m\u001B[43mkwargs\u001B[49m\u001B[43m)\u001B[49m\n\u001B[1;32m    234\u001B[0m     \u001B[38;5;28;01mtry\u001B[39;00m:\n\u001B[1;32m    235\u001B[0m         \u001B[38;5;28;01mimport\u001B[39;00m \u001B[38;5;21;01mtiktoken\u001B[39;00m\n",
      "\u001B[0;31mTypeError\u001B[0m: TextSplitter.__init__() got an unexpected keyword argument 'max_tokens'"
     ]
    }
   ],
   "source": [
    "from langchain.text_splitter import TokenTextSplitter\n",
    "\n",
    "# Example long document text\n",
    "text = \"Your long document text goes here...\"\n",
    "\n",
    "# Initializing the TokenSplitter with a maximum token limit of 512\n",
    "splitter = TokenTextSplitter(max_tokens=512)\n",
    "\n",
    "# Splitting the text into chunks\n",
    "chunks = splitter.split_text(text)\n",
    "\n",
    "# Printing each chunk\n",
    "for chunk in chunks:\n",
    "    print(chunk)"
   ],
   "metadata": {
    "collapsed": false,
    "ExecuteTime": {
     "end_time": "2024-07-16T09:15:30.980717Z",
     "start_time": "2024-07-16T09:15:30.960635Z"
    }
   },
   "id": "c4b23f71a1424b5a",
   "execution_count": 3
  },
  {
   "cell_type": "code",
   "outputs": [],
   "source": [],
   "metadata": {
    "collapsed": false
   },
   "id": "1ce4ee60e0298492"
  }
 ],
 "metadata": {
  "kernelspec": {
   "display_name": "Python 3",
   "language": "python",
   "name": "python3"
  },
  "language_info": {
   "codemirror_mode": {
    "name": "ipython",
    "version": 2
   },
   "file_extension": ".py",
   "mimetype": "text/x-python",
   "name": "python",
   "nbconvert_exporter": "python",
   "pygments_lexer": "ipython2",
   "version": "2.7.6"
  }
 },
 "nbformat": 4,
 "nbformat_minor": 5
}
