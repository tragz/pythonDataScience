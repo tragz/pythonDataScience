{
 "cells": [
  {
   "cell_type": "markdown",
   "source": [
    "# Recursive Character Text Splitting\n",
    "\n",
    "Recursive Character Text Splitter method divides text inot chunks based on character count, ensuring each chunk is below a specified length. \n",
    "\n",
    "This method is useful for maintaining natural paragraph or sentence breaks in document"
   ],
   "metadata": {
    "collapsed": false
   },
   "id": "e25e05f6d0bee95f"
  },
  {
   "cell_type": "code",
   "outputs": [],
   "source": [
    "# Importing the RecursiveCharacterTextSplitter class from langchian\n",
    "from langchain.text_splitter import RecursiveCharacterTextSplitter\n"
   ],
   "metadata": {
    "collapsed": false,
    "ExecuteTime": {
     "end_time": "2024-07-16T08:56:57.545662Z",
     "start_time": "2024-07-16T08:56:57.376739Z"
    }
   },
   "id": "9d79bee3d6d67532",
   "execution_count": 1
  },
  {
   "cell_type": "code",
   "outputs": [],
   "source": [
    "# Example long document text\n",
    "text = \"Your long document text goes here ....\"\n",
    "\n",
    "# Initializing the RecursiveCharacterTextSplitter with a chunk size of 1000 characters\n",
    "splitter = RecursiveCharacterTextSplitter(chunk_size=1000, chunk_overlap=50)"
   ],
   "metadata": {
    "collapsed": false,
    "ExecuteTime": {
     "end_time": "2024-07-16T08:58:25.212680Z",
     "start_time": "2024-07-16T08:58:25.207162Z"
    }
   },
   "id": "e059dfbeafd61426",
   "execution_count": 2
  },
  {
   "cell_type": "code",
   "outputs": [],
   "source": [
    "# Splitting the text into chunks\n",
    "chunks = splitter.split_text(text)\n"
   ],
   "metadata": {
    "collapsed": false,
    "ExecuteTime": {
     "end_time": "2024-07-16T08:58:51.309996Z",
     "start_time": "2024-07-16T08:58:51.306350Z"
    }
   },
   "id": "99dae644212527fb",
   "execution_count": 3
  },
  {
   "cell_type": "code",
   "outputs": [
    {
     "name": "stdout",
     "output_type": "stream",
     "text": [
      "Your long document text goes here ....\n"
     ]
    }
   ],
   "source": [
    "# Printing each chunk\n",
    "for chunk in chunks:\n",
    "    print(chunk)"
   ],
   "metadata": {
    "collapsed": false,
    "ExecuteTime": {
     "end_time": "2024-07-16T08:59:10.386059Z",
     "start_time": "2024-07-16T08:59:10.382767Z"
    }
   },
   "id": "5131a1b4f3bd397c",
   "execution_count": 4
  },
  {
   "cell_type": "code",
   "outputs": [],
   "source": [],
   "metadata": {
    "collapsed": false
   },
   "id": "29b5b769a29a0e79"
  }
 ],
 "metadata": {
  "kernelspec": {
   "display_name": "Python 3",
   "language": "python",
   "name": "python3"
  },
  "language_info": {
   "codemirror_mode": {
    "name": "ipython",
    "version": 2
   },
   "file_extension": ".py",
   "mimetype": "text/x-python",
   "name": "python",
   "nbconvert_exporter": "python",
   "pygments_lexer": "ipython2",
   "version": "2.7.6"
  }
 },
 "nbformat": 4,
 "nbformat_minor": 5
}
