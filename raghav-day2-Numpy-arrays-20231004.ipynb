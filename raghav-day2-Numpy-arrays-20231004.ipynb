{
 "cells": [
  {
   "cell_type": "code",
   "execution_count": 2,
   "id": "5d9609da",
   "metadata": {},
   "outputs": [],
   "source": [
    "import numpy as np"
   ]
  },
  {
   "cell_type": "code",
   "execution_count": 3,
   "id": "c7fed251",
   "metadata": {},
   "outputs": [],
   "source": [
    "# 1d array\n",
    "# a = [ 1, 2, 3, 4]\n",
    "# a.ndim  1\n",
    "# a.shape (4, )\n",
    "\n",
    "# 2d array / matrix\n",
    "# b = [[0,1], [1,2], [2, 3]]\n",
    "# b.ndim  2\n",
    "# b.shape (3, 2)\n",
    "\n"
   ]
  },
  {
   "cell_type": "code",
   "execution_count": null,
   "id": "44e6971e",
   "metadata": {},
   "outputs": [],
   "source": []
  },
  {
   "cell_type": "code",
   "execution_count": 5,
   "id": "c264b07e",
   "metadata": {},
   "outputs": [
    {
     "data": {
      "text/plain": [
       "array([[ 0,  4,  8, 12],\n",
       "       [16,  1,  5,  9],\n",
       "       [10, 14, 18,  3],\n",
       "       [ 7, 11, 15, 19]])"
      ]
     },
     "execution_count": 5,
     "metadata": {},
     "output_type": "execute_result"
    }
   ],
   "source": [
    "m2 = np.array([[0,4,8,12],[16,1,5,9],[10,14,18,3],[7,11,15,19]])\n",
    "m2"
   ]
  },
  {
   "cell_type": "code",
   "execution_count": 19,
   "id": "3b4e6ba5",
   "metadata": {},
   "outputs": [
    {
     "data": {
      "text/plain": [
       "array([[ 0,  4,  8, 12],\n",
       "       [16,  1,  5,  9],\n",
       "       [10, 14, 18,  3],\n",
       "       [ 7, 11, 15, 19]])"
      ]
     },
     "execution_count": 19,
     "metadata": {},
     "output_type": "execute_result"
    }
   ],
   "source": [
    "m3 = np.array([[0,4,8,12],[16,1,5,9],[10,14,18,3],[7,11,15,19]])\n",
    "m3"
   ]
  },
  {
   "cell_type": "code",
   "execution_count": 10,
   "id": "0d0c2ded",
   "metadata": {},
   "outputs": [
    {
     "data": {
      "text/plain": [
       "array([0, 1, 2, 3, 4, 5])"
      ]
     },
     "execution_count": 10,
     "metadata": {},
     "output_type": "execute_result"
    }
   ],
   "source": [
    "arr = np.arange(6)\n",
    "arr"
   ]
  },
  {
   "cell_type": "code",
   "execution_count": 12,
   "id": "ffae7335",
   "metadata": {},
   "outputs": [
    {
     "data": {
      "text/plain": [
       "array([[0, 1],\n",
       "       [2, 3],\n",
       "       [4, 5]])"
      ]
     },
     "execution_count": 12,
     "metadata": {},
     "output_type": "execute_result"
    }
   ],
   "source": [
    "# reshape the matrix newshape = row x col\n",
    "m1 = np.reshape( arr, (3,2))\n",
    "m1"
   ]
  },
  {
   "cell_type": "code",
   "execution_count": 13,
   "id": "7ea3e5cd",
   "metadata": {},
   "outputs": [
    {
     "data": {
      "text/plain": [
       "array([[0., 0., 0., 0., 0., 0.],\n",
       "       [0., 0., 0., 0., 0., 0.],\n",
       "       [0., 0., 0., 0., 0., 0.]])"
      ]
     },
     "execution_count": 13,
     "metadata": {},
     "output_type": "execute_result"
    }
   ],
   "source": [
    "# Matrix with Zeros\n",
    "zarr = np.zeros((3,6))\n",
    "zarr"
   ]
  },
  {
   "cell_type": "code",
   "execution_count": 17,
   "id": "ed2f4098",
   "metadata": {},
   "outputs": [
    {
     "data": {
      "text/plain": [
       "array([[0., 0., 0., 0., 0., 0.],\n",
       "       [0., 0., 0., 0., 0., 0.],\n",
       "       [0., 0., 0., 0., 0., 0.]])"
      ]
     },
     "execution_count": 17,
     "metadata": {},
     "output_type": "execute_result"
    }
   ],
   "source": [
    "# Empty Matrix\n",
    "earr = np.empty((3,6))\n",
    "earr"
   ]
  },
  {
   "cell_type": "code",
   "execution_count": 18,
   "id": "9566ef9a",
   "metadata": {},
   "outputs": [
    {
     "data": {
      "text/plain": [
       "array([[ 0.11907988, -0.19748542, -0.20218358],\n",
       "       [-1.17588866, -0.63569936, -1.24363751],\n",
       "       [-0.46168094, -1.505672  , -1.73068941],\n",
       "       [-1.57455507,  1.96482632,  0.29505887],\n",
       "       [ 0.34430517,  0.30646989,  1.12852663],\n",
       "       [ 1.07725223, -1.78191484, -1.19608029]])"
      ]
     },
     "execution_count": 18,
     "metadata": {},
     "output_type": "execute_result"
    }
   ],
   "source": [
    "# Random Matrix - normally distributed values\n",
    "rarr = np.random.randn(6,3)\n",
    "rarr"
   ]
  },
  {
   "cell_type": "code",
   "execution_count": 20,
   "id": "80d7b857",
   "metadata": {},
   "outputs": [
    {
     "data": {
      "text/plain": [
       "array([[ 0.11907988, -1.17588866, -0.46168094, -1.57455507,  0.34430517,\n",
       "         1.07725223],\n",
       "       [-0.19748542, -0.63569936, -1.505672  ,  1.96482632,  0.30646989,\n",
       "        -1.78191484],\n",
       "       [-0.20218358, -1.24363751, -1.73068941,  0.29505887,  1.12852663,\n",
       "        -1.19608029]])"
      ]
     },
     "execution_count": 20,
     "metadata": {},
     "output_type": "execute_result"
    }
   ],
   "source": [
    "# transpose\n",
    "rarr.T\n"
   ]
  },
  {
   "cell_type": "code",
   "execution_count": 23,
   "id": "21472f15",
   "metadata": {},
   "outputs": [
    {
     "data": {
      "text/plain": [
       "array([[ 0,  3,  6,  9, 12],\n",
       "       [ 1,  4,  7, 10, 13],\n",
       "       [ 2,  5,  8, 11, 14]])"
      ]
     },
     "execution_count": 23,
     "metadata": {},
     "output_type": "execute_result"
    }
   ],
   "source": [
    "arr = np.arange(15).reshape(5,3).T\n",
    "arr"
   ]
  },
  {
   "cell_type": "code",
   "execution_count": 24,
   "id": "f928cd6d",
   "metadata": {},
   "outputs": [
    {
     "data": {
      "text/plain": [
       "(3, 2)"
      ]
     },
     "execution_count": 24,
     "metadata": {},
     "output_type": "execute_result"
    }
   ],
   "source": [
    "m1.shape\n"
   ]
  },
  {
   "cell_type": "code",
   "execution_count": 25,
   "id": "4656b9b0",
   "metadata": {},
   "outputs": [
    {
     "data": {
      "text/plain": [
       "(4, 4)"
      ]
     },
     "execution_count": 25,
     "metadata": {},
     "output_type": "execute_result"
    }
   ],
   "source": [
    "m2.shape\n"
   ]
  },
  {
   "cell_type": "code",
   "execution_count": 28,
   "id": "4eedfba7",
   "metadata": {},
   "outputs": [
    {
     "data": {
      "text/plain": [
       "array([[ 0,  1,  2,  3],\n",
       "       [ 4,  5,  6,  7],\n",
       "       [ 8,  9, 10, 11],\n",
       "       [12, 13, 14, 15],\n",
       "       [16, 17, 18, 19]])"
      ]
     },
     "execution_count": 28,
     "metadata": {},
     "output_type": "execute_result"
    }
   ],
   "source": [
    "m1 = np.arange(20).reshape(5,4)\n",
    "m1"
   ]
  },
  {
   "cell_type": "markdown",
   "id": "a9f7168c",
   "metadata": {},
   "source": [
    "m1[::2,::2]"
   ]
  },
  {
   "cell_type": "code",
   "execution_count": 29,
   "id": "33726795",
   "metadata": {},
   "outputs": [
    {
     "data": {
      "text/plain": [
       "array([1, 5])"
      ]
     },
     "execution_count": 29,
     "metadata": {},
     "output_type": "execute_result"
    }
   ],
   "source": [
    "m1[0:2, 1]"
   ]
  },
  {
   "cell_type": "code",
   "execution_count": 30,
   "id": "a7467618",
   "metadata": {},
   "outputs": [],
   "source": [
    "Pdict = {\"David\":0,\"Joe\":1,\"James\":2,\"Anthony\":3,\"Danny\":4,\"Chris\":5,\"Paul\":6,\"Kevin\":7,\"Derrick\":8,\"Dwayne\":9}\n",
    "\n"
   ]
  },
  {
   "cell_type": "code",
   "execution_count": 32,
   "id": "343107f3",
   "metadata": {},
   "outputs": [
    {
     "ename": "NameError",
     "evalue": "name 'pd' is not defined",
     "output_type": "error",
     "traceback": [
      "\u001b[0;31m---------------------------------------------------------------------------\u001b[0m",
      "\u001b[0;31mNameError\u001b[0m                                 Traceback (most recent call last)",
      "Cell \u001b[0;32mIn[32], line 1\u001b[0m\n\u001b[0;32m----> 1\u001b[0m obj3 \u001b[38;5;241m=\u001b[39m \u001b[43mpd\u001b[49m\u001b[38;5;241m.\u001b[39mSeries(Pdict)\n\u001b[1;32m      2\u001b[0m obj3\n",
      "\u001b[0;31mNameError\u001b[0m: name 'pd' is not defined"
     ]
    }
   ],
   "source": [
    "obj3 = pd.Series(Pdict)\n",
    "obj3"
   ]
  },
  {
   "cell_type": "code",
   "execution_count": null,
   "id": "e7c9ce42",
   "metadata": {},
   "outputs": [],
   "source": []
  }
 ],
 "metadata": {
  "kernelspec": {
   "display_name": "Python 3 (ipykernel)",
   "language": "python",
   "name": "python3"
  },
  "language_info": {
   "codemirror_mode": {
    "name": "ipython",
    "version": 3
   },
   "file_extension": ".py",
   "mimetype": "text/x-python",
   "name": "python",
   "nbconvert_exporter": "python",
   "pygments_lexer": "ipython3",
   "version": "3.11.4"
  }
 },
 "nbformat": 4,
 "nbformat_minor": 5
}
