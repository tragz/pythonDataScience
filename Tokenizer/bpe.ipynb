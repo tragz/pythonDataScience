{
 "cells": [
  {
   "cell_type": "markdown",
   "source": [
    "# Byte-Pair-Encoding (BPE)"
   ],
   "metadata": {
    "collapsed": false
   },
   "id": "346b9d594c9de59d"
  },
  {
   "cell_type": "code",
   "outputs": [
    {
     "name": "stderr",
     "output_type": "stream",
     "text": [
      "None of PyTorch, TensorFlow >= 2.0, or Flax have been found. Models won't be available and only tokenizers, configuration and file/data utilities can be used.\n"
     ]
    }
   ],
   "source": [
    "from transformers import GPT2Tokenizer"
   ],
   "metadata": {
    "collapsed": false,
    "ExecuteTime": {
     "end_time": "2024-07-15T09:57:19.537050Z",
     "start_time": "2024-07-15T09:57:16.075725Z"
    }
   },
   "id": "c1e4817b403c3e69",
   "execution_count": 3
  },
  {
   "cell_type": "code",
   "outputs": [],
   "source": [
    "tokenizer = GPT2Tokenizer.from_pretrained(\"gpt2\")\n"
   ],
   "metadata": {
    "collapsed": false,
    "ExecuteTime": {
     "end_time": "2024-07-15T10:04:31.422456Z",
     "start_time": "2024-07-15T10:04:30.807323Z"
    }
   },
   "id": "917221b1e797398",
   "execution_count": 4
  },
  {
   "cell_type": "code",
   "outputs": [],
   "source": [
    "text = \"It's over 9000!\""
   ],
   "metadata": {
    "collapsed": false,
    "ExecuteTime": {
     "end_time": "2024-07-15T10:04:40.449903Z",
     "start_time": "2024-07-15T10:04:40.445646Z"
    }
   },
   "id": "8ca2615906cfb64d",
   "execution_count": 5
  },
  {
   "cell_type": "code",
   "outputs": [],
   "source": [
    "# Tokenize the text\n",
    "token_ids = tokenizer.encode(text, add_special_tokens=True)"
   ],
   "metadata": {
    "collapsed": false,
    "ExecuteTime": {
     "end_time": "2024-07-15T10:04:47.685033Z",
     "start_time": "2024-07-15T10:04:47.680813Z"
    }
   },
   "id": "e3a4347d7ecb2508",
   "execution_count": 6
  },
  {
   "cell_type": "code",
   "outputs": [
    {
     "name": "stdout",
     "output_type": "stream",
     "text": [
      "Token IDs: [1026, 338, 625, 50138, 0]\n"
     ]
    }
   ],
   "source": [
    "# Output the token IDs\n",
    "print(\"Token IDs:\", token_ids)"
   ],
   "metadata": {
    "collapsed": false,
    "ExecuteTime": {
     "end_time": "2024-07-15T10:04:55.656829Z",
     "start_time": "2024-07-15T10:04:55.652829Z"
    }
   },
   "id": "ea701b5af71ce3c9",
   "execution_count": 7
  },
  {
   "cell_type": "code",
   "outputs": [
    {
     "name": "stdout",
     "output_type": "stream",
     "text": [
      "Raw tokens: ['It', \"'s\", ' over', ' 9000', '!']\n"
     ]
    }
   ],
   "source": [
    "# Convert token IDs back to raw tokens and output them\n",
    "raw_tokens = [tokenizer.decode([token_id]) for token_id in token_ids]\n",
    "print(\"Raw tokens:\", raw_tokens)"
   ],
   "metadata": {
    "collapsed": false,
    "ExecuteTime": {
     "end_time": "2024-07-15T10:05:06.709409Z",
     "start_time": "2024-07-15T10:05:06.705693Z"
    }
   },
   "id": "bb992b46ae8c366b",
   "execution_count": 8
  },
  {
   "cell_type": "code",
   "outputs": [],
   "source": [],
   "metadata": {
    "collapsed": false
   },
   "id": "b9f79818527bc56e"
  }
 ],
 "metadata": {
  "kernelspec": {
   "display_name": "Python 3",
   "language": "python",
   "name": "python3"
  },
  "language_info": {
   "codemirror_mode": {
    "name": "ipython",
    "version": 2
   },
   "file_extension": ".py",
   "mimetype": "text/x-python",
   "name": "python",
   "nbconvert_exporter": "python",
   "pygments_lexer": "ipython2",
   "version": "2.7.6"
  }
 },
 "nbformat": 4,
 "nbformat_minor": 5
}
