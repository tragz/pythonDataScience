{
 "cells": [
  {
   "cell_type": "code",
   "outputs": [],
   "source": [
    "# Prerequisite install\n",
    "# nltk ( Natural Language ToolKit ) - Open Source \n",
    "#        pip install -U nltk\n",
    "#        https://www.nltk.org/install.html\n",
    "#        https://github.com/nltk/nltk"
   ],
   "metadata": {
    "collapsed": false,
    "ExecuteTime": {
     "end_time": "2024-07-15T09:35:52.560947Z",
     "start_time": "2024-07-15T09:35:52.554613Z"
    }
   },
   "id": "40ed755574f88166",
   "execution_count": 1
  },
  {
   "cell_type": "code",
   "outputs": [
    {
     "data": {
      "text/plain": "\"It's over 9000!\""
     },
     "execution_count": 2,
     "metadata": {},
     "output_type": "execute_result"
    }
   ],
   "source": [
    "# Example string for tokenization\n",
    "example_string = \"It's over 9000!\"\n",
    "example_string"
   ],
   "metadata": {
    "collapsed": true,
    "ExecuteTime": {
     "end_time": "2024-07-15T09:35:52.989698Z",
     "start_time": "2024-07-15T09:35:52.987095Z"
    }
   },
   "id": "initial_id",
   "execution_count": 2
  },
  {
   "cell_type": "code",
   "outputs": [
    {
     "data": {
      "text/plain": "[\"It's\", 'over', '9000!']"
     },
     "execution_count": 3,
     "metadata": {},
     "output_type": "execute_result"
    }
   ],
   "source": [
    "# Method 1: White Space Tokenization\n",
    "# This method splits the text based on white spaces\n",
    "white_space_tokens = example_string.split()\n",
    "white_space_tokens"
   ],
   "metadata": {
    "collapsed": false,
    "ExecuteTime": {
     "end_time": "2024-07-15T09:35:53.380747Z",
     "start_time": "2024-07-15T09:35:53.375828Z"
    }
   },
   "id": "a25381cfb65fe817",
   "execution_count": 3
  },
  {
   "cell_type": "code",
   "outputs": [
    {
     "data": {
      "text/plain": "['It', \"'\", 's', 'over', '9000', '!']"
     },
     "execution_count": 4,
     "metadata": {},
     "output_type": "execute_result"
    }
   ],
   "source": [
    "# Method 2: WordPunct Tokenization\n",
    "# This method splits the text into words and punctuation\n",
    "from nltk.tokenize import WordPunctTokenizer\n",
    "wordpunct_tokenizer = WordPunctTokenizer()\n",
    "wordpunct_tokens = wordpunct_tokenizer.tokenize(example_string)\n",
    "wordpunct_tokens"
   ],
   "metadata": {
    "collapsed": false,
    "ExecuteTime": {
     "end_time": "2024-07-15T09:35:53.877107Z",
     "start_time": "2024-07-15T09:35:53.754902Z"
    }
   },
   "id": "be173b051bea7249",
   "execution_count": 4
  },
  {
   "cell_type": "code",
   "outputs": [
    {
     "data": {
      "text/plain": "['It', \"'s\", 'over', '9000', '!']"
     },
     "execution_count": 5,
     "metadata": {},
     "output_type": "execute_result"
    }
   ],
   "source": [
    "# Method 3: Treebank Word Tokenization\n",
    "# This method uses the standard word tokenization of the Penn Treebank\n",
    "from nltk.tokenize import TreebankWordTokenizer\n",
    "treebank_tokenizer = TreebankWordTokenizer()\n",
    "treebank_tokens = treebank_tokenizer.tokenize(example_string)\n",
    "treebank_tokens"
   ],
   "metadata": {
    "collapsed": false,
    "ExecuteTime": {
     "end_time": "2024-07-15T09:35:54.029530Z",
     "start_time": "2024-07-15T09:35:54.027481Z"
    }
   },
   "id": "5d802e54945459b5",
   "execution_count": 5
  },
  {
   "cell_type": "code",
   "outputs": [
    {
     "data": {
      "text/plain": "([\"It's\", 'over', '9000!'],\n ['It', \"'\", 's', 'over', '9000', '!'],\n ['It', \"'s\", 'over', '9000', '!'])"
     },
     "execution_count": 6,
     "metadata": {},
     "output_type": "execute_result"
    }
   ],
   "source": [
    "white_space_tokens, wordpunct_tokens, treebank_tokens"
   ],
   "metadata": {
    "collapsed": false,
    "ExecuteTime": {
     "end_time": "2024-07-15T09:35:54.400052Z",
     "start_time": "2024-07-15T09:35:54.397062Z"
    }
   },
   "id": "a48acfb1dd31c811",
   "execution_count": 6
  }
 ],
 "metadata": {
  "kernelspec": {
   "display_name": "Python 3",
   "language": "python",
   "name": "python3"
  },
  "language_info": {
   "codemirror_mode": {
    "name": "ipython",
    "version": 2
   },
   "file_extension": ".py",
   "mimetype": "text/x-python",
   "name": "python",
   "nbconvert_exporter": "python",
   "pygments_lexer": "ipython2",
   "version": "2.7.6"
  }
 },
 "nbformat": 4,
 "nbformat_minor": 5
}
