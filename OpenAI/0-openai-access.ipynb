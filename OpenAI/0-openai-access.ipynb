{
 "cells": [
  {
   "cell_type": "code",
   "execution_count": 6,
   "id": "initial_id",
   "metadata": {
    "collapsed": true,
    "ExecuteTime": {
     "end_time": "2024-07-16T06:16:15.570197Z",
     "start_time": "2024-07-16T06:16:15.565085Z"
    }
   },
   "outputs": [],
   "source": [
    "import time\n",
    "from openai import OpenAI\n",
    "import os\n",
    "import pprint"
   ]
  },
  {
   "cell_type": "code",
   "outputs": [
    {
     "name": "stdout",
     "output_type": "stream",
     "text": [
      "sk-None-2n9XsnynslmDJbPMcjsAT3BlbkFJsj8bKltuSR90JSdBjTXY\n"
     ]
    }
   ],
   "source": [
    "os.environ[\"OPENAI_API_KEY\"]=\"sk-None-2n9XsnynslmDJbPMcjsAT3BlbkFJsj8bKltuSR90JSdBjTXY\"\n",
    "openai_key = os.environ.get('OPENAI_API_KEY')\n",
    "print(openai_key)\n"
   ],
   "metadata": {
    "collapsed": false,
    "ExecuteTime": {
     "end_time": "2024-07-16T06:16:44.996050Z",
     "start_time": "2024-07-16T06:16:44.990234Z"
    }
   },
   "id": "52c1d71fcd033b31",
   "execution_count": 7
  },
  {
   "cell_type": "code",
   "outputs": [],
   "source": [
    "client = OpenAI(api_key=os.environ.get(\"OPENAI_API_KEY\", \"<your OpenAI API key if not set as env var>\"))"
   ],
   "metadata": {
    "collapsed": false,
    "ExecuteTime": {
     "end_time": "2024-07-16T06:16:48.043249Z",
     "start_time": "2024-07-16T06:16:48.034115Z"
    }
   },
   "id": "f512a5b27e3a62c5",
   "execution_count": 8
  },
  {
   "cell_type": "code",
   "outputs": [
    {
     "data": {
      "text/plain": "<openai.OpenAI at 0x106a9fb00>"
     },
     "execution_count": 9,
     "metadata": {},
     "output_type": "execute_result"
    }
   ],
   "source": [
    "client"
   ],
   "metadata": {
    "collapsed": false,
    "ExecuteTime": {
     "end_time": "2024-07-16T06:16:49.388858Z",
     "start_time": "2024-07-16T06:16:49.386572Z"
    }
   },
   "id": "ac429ece01db6730",
   "execution_count": 9
  },
  {
   "cell_type": "code",
   "outputs": [],
   "source": [
    "api_key=os.environ.get(\"OPENAI_API_KEY\", \"<your OpenAI API key if not set as env var>\")"
   ],
   "metadata": {
    "collapsed": false,
    "ExecuteTime": {
     "end_time": "2024-07-16T06:16:52.526327Z",
     "start_time": "2024-07-16T06:16:52.521701Z"
    }
   },
   "id": "81f9da33f3f7767f",
   "execution_count": 10
  },
  {
   "cell_type": "code",
   "outputs": [
    {
     "data": {
      "text/plain": "'sk-None-2n9XsnynslmDJbPMcjsAT3BlbkFJsj8bKltuSR90JSdBjTXY'"
     },
     "execution_count": 11,
     "metadata": {},
     "output_type": "execute_result"
    }
   ],
   "source": [
    "api_key"
   ],
   "metadata": {
    "collapsed": false,
    "ExecuteTime": {
     "end_time": "2024-07-16T06:16:53.900125Z",
     "start_time": "2024-07-16T06:16:53.894434Z"
    }
   },
   "id": "d0f1ad9736435ad3",
   "execution_count": 11
  },
  {
   "cell_type": "code",
   "outputs": [
    {
     "name": "stdout",
     "output_type": "stream",
     "text": [
      "User's Environment variable:\n",
      "{'CLICOLOR': '1',\n",
      " 'CLICOLOR_FORCE': '1',\n",
      " 'COMMAND_MODE': 'unix2003',\n",
      " 'FORCE_COLOR': '1',\n",
      " 'GIT_PAGER': 'cat',\n",
      " 'HOME': '/Users/raghav.tanaji',\n",
      " 'HOMEBREW_CELLAR': '/opt/homebrew/Cellar',\n",
      " 'HOMEBREW_PREFIX': '/opt/homebrew',\n",
      " 'HOMEBREW_REPOSITORY': '/opt/homebrew',\n",
      " 'IDEA_INITIAL_DIRECTORY': '/',\n",
      " 'INFOPATH': '/opt/homebrew/share/info:',\n",
      " 'JPY_PARENT_PID': '68903',\n",
      " 'JPY_SESSION_NAME': 'OpenAI/0-openai-access.ipynb',\n",
      " 'LANG': 'en_US.UTF-8',\n",
      " 'LANGUAGE': '',\n",
      " 'LC_ALL': 'en_US.UTF-8',\n",
      " 'LC_CTYPE': 'en_IN.UTF-8',\n",
      " 'LOGNAME': 'raghav.tanaji',\n",
      " 'LaunchInstanceID': '9931064A-DA5F-4BF4-A2AD-C1890B30650E',\n",
      " 'MANPATH': '/opt/homebrew/share/man::',\n",
      " 'MPLBACKEND': 'module://matplotlib_inline.backend_inline',\n",
      " 'OLDPWD': '/',\n",
      " 'OPENAI_API_KEY': 'sk-None-2n9XsnynslmDJbPMcjsAT3BlbkFJsj8bKltuSR90JSdBjTXY',\n",
      " 'PAGER': 'cat',\n",
      " 'PATH': '/Users/raghav.tanaji/Desktop/gitrepos/pythonDataScience/venv/bin:/Users/raghav.tanaji/Downloads/google-cloud-sdk/bin:/opt/homebrew/opt/curl/bin:/opt/homebrew/opt/openjdk/bin:/opt/homebrew/bin:/opt/homebrew/sbin:/usr/local/bin:/System/Cryptexes/App/usr/bin:/usr/bin:/bin:/usr/sbin:/sbin:/var/run/com.apple.security.cryptexd/codex.system/bootstrap/usr/local/bin:/var/run/com.apple.security.cryptexd/codex.system/bootstrap/usr/bin:/var/run/com.apple.security.cryptexd/codex.system/bootstrap/usr/appleinternal/bin:/Users/raghav.tanaji/go/bin',\n",
      " 'PS1': '(venv) ',\n",
      " 'PWD': '/Users/raghav.tanaji/Desktop/gitrepos/pythonDataScience',\n",
      " 'PYDEVD_USE_FRAME_EVAL': 'NO',\n",
      " 'PYTHONPATH': '/Users/raghav.tanaji/Desktop/gitrepos/pythonDataScience',\n",
      " 'SECURITYSESSIONID': '186b4',\n",
      " 'SHELL': '/bin/zsh',\n",
      " 'SSH_AUTH_SOCK': '/private/tmp/com.apple.launchd.aHalB0hNvm/Listeners',\n",
      " 'TERM': 'xterm-color',\n",
      " 'TMPDIR': '/var/folders/92/wrvbqmbs24dcfbf8y9zjhql40000gp/T/',\n",
      " 'USER': 'raghav.tanaji',\n",
      " 'VIRTUAL_ENV': '/Users/raghav.tanaji/Desktop/gitrepos/pythonDataScience/venv',\n",
      " 'XPC_FLAGS': '0x0',\n",
      " 'XPC_SERVICE_NAME': 'application.com.jetbrains.pycharm.32398439.38178999',\n",
      " '__CFBundleIdentifier': 'com.jetbrains.pycharm',\n",
      " '__CF_USER_TEXT_ENCODING': '0x1F6:0x0:0x0'}\n"
     ]
    }
   ],
   "source": [
    "env_var = os.environ\n",
    "\n",
    "    # Print the list of user's \n",
    "print(\"User's Environment variable:\") \n",
    "pprint.pprint(dict(env_var), width = 1) "
   ],
   "metadata": {
    "collapsed": false,
    "ExecuteTime": {
     "end_time": "2024-07-16T06:18:53.575047Z",
     "start_time": "2024-07-16T06:18:53.568963Z"
    }
   },
   "id": "dc2cb47aae32bd8f",
   "execution_count": 12
  }
 ],
 "metadata": {
  "kernelspec": {
   "display_name": "Python 3",
   "language": "python",
   "name": "python3"
  },
  "language_info": {
   "codemirror_mode": {
    "name": "ipython",
    "version": 2
   },
   "file_extension": ".py",
   "mimetype": "text/x-python",
   "name": "python",
   "nbconvert_exporter": "python",
   "pygments_lexer": "ipython2",
   "version": "2.7.6"
  }
 },
 "nbformat": 4,
 "nbformat_minor": 5
}
