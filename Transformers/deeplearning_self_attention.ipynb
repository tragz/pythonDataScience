{
 "cells": [
  {
   "cell_type": "code",
   "execution_count": 4,
   "id": "initial_id",
   "metadata": {
    "collapsed": true,
    "ExecuteTime": {
     "end_time": "2025-02-24T10:39:17.243643Z",
     "start_time": "2025-02-24T10:39:17.239327Z"
    }
   },
   "outputs": [],
   "source": [
    "import torch\n",
    "import torch.nn as nn\n",
    "import torch.nn.functional as F"
   ]
  },
  {
   "cell_type": "code",
   "outputs": [],
   "source": [
    "class SelfAttention(nn.Module):\n",
    "    def __init__(self, d_model=2, row_dim=0, col_dim=1):\n",
    "        ## d_model = \n",
    "        super().__init__()\n",
    "        \n",
    "        self.W_q = nn.Linear(in_features=d_model, out_features=d_model, bias=False)\n",
    "        self.W_k = nn.Linear(in_features=d_model, out_features=d_model, bias=False)\n",
    "        self.W_v = nn.Linear(in_features=d_model, out_features=d_model, bias=False)\n",
    "        \n",
    "        self.row_dim = row_dim\n",
    "        self.col_dim = col_dim\n",
    "        \n",
    "    def forward(self, token_encoding):\n",
    "        q = self.W_q(token_encoding)\n",
    "        k = self.W_k(token_encoding)\n",
    "        v = self.W_v(token_encoding)\n",
    "        \n",
    "        # compute similarities score : (q * k^T)\n",
    "        sims = torch.matmul(q, k.transpose(dim0=self.row_dim, dim1=self.col_dim))\n",
    "        \n",
    "        # Scale the similarities by dividing by sqrt(k.col_dim)\n",
    "        scaled_sims = sims / torch.tensor(k.size(self.col_dim)**0.5)\n",
    "\n",
    "        # Apply softmax to determine what % of each token to use in final attention value\n",
    "        attention_percents = F.softmax(scaled_sims, dim=self.col_dim)\n",
    "        \n",
    "        # scale the values by their associated percentage\n",
    "        attention_scores = torch.matmul(attention_percents, v)\n",
    "\n",
    "        return attention_scores       \n",
    "        \n",
    "        "
   ],
   "metadata": {
    "collapsed": false,
    "ExecuteTime": {
     "end_time": "2025-02-24T10:43:37.079495Z",
     "start_time": "2025-02-24T10:43:37.076974Z"
    }
   },
   "id": "b94b126d6652ff6a",
   "execution_count": 6
  },
  {
   "cell_type": "code",
   "outputs": [
    {
     "name": "stdout",
     "output_type": "stream",
     "text": [
      "tensor([[ 1.1600,  0.2300],\n",
      "        [ 0.5700,  1.3600],\n",
      "        [ 4.4100, -2.1600]])\n"
     ]
    }
   ],
   "source": [
    "## create a matrix of token encodings...\n",
    "encodings_matrix = torch.tensor([[1.16, 0.23],\n",
    "                                 [0.57, 1.36],\n",
    "                                 [4.41, -2.16]])\n",
    "\n",
    "print(encodings_matrix)\n"
   ],
   "metadata": {
    "collapsed": false,
    "ExecuteTime": {
     "end_time": "2025-02-24T10:44:04.873249Z",
     "start_time": "2025-02-24T10:44:04.869295Z"
    }
   },
   "id": "9def29be147fd8e0",
   "execution_count": 8
  },
  {
   "cell_type": "code",
   "outputs": [
    {
     "data": {
      "text/plain": "<torch._C.Generator at 0x106d21e50>"
     },
     "execution_count": 9,
     "metadata": {},
     "output_type": "execute_result"
    }
   ],
   "source": [
    "## set the seed for the random number generator\n",
    "torch.manual_seed(42)"
   ],
   "metadata": {
    "collapsed": false,
    "ExecuteTime": {
     "end_time": "2025-02-24T10:44:28.707115Z",
     "start_time": "2025-02-24T10:44:28.700455Z"
    }
   },
   "id": "c1853a3fe25eaff5",
   "execution_count": 9
  },
  {
   "cell_type": "code",
   "outputs": [],
   "source": [
    "## create a basic self-attention object\n",
    "selfAttention = SelfAttention(d_model=2, row_dim=0, col_dim=1)"
   ],
   "metadata": {
    "collapsed": false,
    "ExecuteTime": {
     "end_time": "2025-02-24T10:45:00.506203Z",
     "start_time": "2025-02-24T10:45:00.500993Z"
    }
   },
   "id": "8cd798f94ca2bb3",
   "execution_count": 10
  },
  {
   "cell_type": "code",
   "outputs": [
    {
     "data": {
      "text/plain": "tensor([[1.0100, 1.0641],\n        [0.2040, 0.7057],\n        [3.4989, 2.2427]], grad_fn=<MmBackward0>)"
     },
     "execution_count": 11,
     "metadata": {},
     "output_type": "execute_result"
    }
   ],
   "source": [
    "selfAttention(encodings_matrix)"
   ],
   "metadata": {
    "collapsed": false,
    "ExecuteTime": {
     "end_time": "2025-02-24T10:45:08.507169Z",
     "start_time": "2025-02-24T10:45:08.489386Z"
    }
   },
   "id": "fcfd2a095f8c2923",
   "execution_count": 11
  },
  {
   "cell_type": "code",
   "outputs": [],
   "source": [],
   "metadata": {
    "collapsed": false
   },
   "id": "c0cb4f643d2920e5"
  },
  {
   "cell_type": "code",
   "outputs": [
    {
     "data": {
      "text/plain": "tensor([[ 0.5406, -0.1657],\n        [ 0.5869,  0.6496]], grad_fn=<TransposeBackward0>)"
     },
     "execution_count": 12,
     "metadata": {},
     "output_type": "execute_result"
    }
   ],
   "source": [
    "## print out the weight matrix that creates the queries\n",
    "selfAttention.W_q.weight.transpose(0, 1)\n"
   ],
   "metadata": {
    "collapsed": false,
    "ExecuteTime": {
     "end_time": "2025-02-24T10:46:14.362446Z",
     "start_time": "2025-02-24T10:46:14.357513Z"
    }
   },
   "id": "43a3125cce634c9a",
   "execution_count": 12
  },
  {
   "cell_type": "code",
   "outputs": [
    {
     "data": {
      "text/plain": "tensor([[-0.1549, -0.3443],\n        [ 0.1427,  0.4153]], grad_fn=<TransposeBackward0>)"
     },
     "execution_count": 13,
     "metadata": {},
     "output_type": "execute_result"
    }
   ],
   "source": [
    "## print out the weight matrix that creates the keys\n",
    "selfAttention.W_k.weight.transpose(0, 1)"
   ],
   "metadata": {
    "collapsed": false,
    "ExecuteTime": {
     "end_time": "2025-02-24T10:46:52.356077Z",
     "start_time": "2025-02-24T10:46:52.351823Z"
    }
   },
   "id": "e47b05d4d37d8075",
   "execution_count": 13
  },
  {
   "cell_type": "code",
   "outputs": [
    {
     "data": {
      "text/plain": "tensor([[ 0.6233,  0.6146],\n        [-0.5188,  0.1323]], grad_fn=<TransposeBackward0>)"
     },
     "execution_count": 14,
     "metadata": {},
     "output_type": "execute_result"
    }
   ],
   "source": [
    "## print out the weight matrix that creates the values\n",
    "selfAttention.W_v.weight.transpose(0, 1)"
   ],
   "metadata": {
    "collapsed": false,
    "ExecuteTime": {
     "end_time": "2025-02-24T10:47:13.491997Z",
     "start_time": "2025-02-24T10:47:13.487072Z"
    }
   },
   "id": "d53f3c2f1eab65ac",
   "execution_count": 14
  },
  {
   "cell_type": "code",
   "outputs": [
    {
     "data": {
      "text/plain": "tensor([[ 0.7621, -0.0428],\n        [ 1.1063,  0.7890],\n        [ 1.1164, -2.1336]], grad_fn=<MmBackward0>)"
     },
     "execution_count": 15,
     "metadata": {},
     "output_type": "execute_result"
    }
   ],
   "source": [
    "## calculate the queries\n",
    "selfAttention.W_q(encodings_matrix)"
   ],
   "metadata": {
    "collapsed": false,
    "ExecuteTime": {
     "end_time": "2025-02-24T10:47:20.138620Z",
     "start_time": "2025-02-24T10:47:20.132656Z"
    }
   },
   "id": "a54f78dc73665b16",
   "execution_count": 15
  },
  {
   "cell_type": "code",
   "outputs": [
    {
     "data": {
      "text/plain": "tensor([[-0.1469, -0.3038],\n        [ 0.1057,  0.3685],\n        [-0.9914, -2.4152]], grad_fn=<MmBackward0>)"
     },
     "execution_count": 16,
     "metadata": {},
     "output_type": "execute_result"
    }
   ],
   "source": [
    "## calculate the keys\n",
    "selfAttention.W_k(encodings_matrix)"
   ],
   "metadata": {
    "collapsed": false,
    "ExecuteTime": {
     "end_time": "2025-02-24T10:47:33.149163Z",
     "start_time": "2025-02-24T10:47:33.143787Z"
    }
   },
   "id": "7eb3133a8f910216",
   "execution_count": 16
  },
  {
   "cell_type": "code",
   "outputs": [
    {
     "data": {
      "text/plain": "tensor([[ 0.6038,  0.7434],\n        [-0.3502,  0.5303],\n        [ 3.8695,  2.4246]], grad_fn=<MmBackward0>)"
     },
     "execution_count": 17,
     "metadata": {},
     "output_type": "execute_result"
    }
   ],
   "source": [
    "## calculate the values\n",
    "selfAttention.W_v(encodings_matrix)"
   ],
   "metadata": {
    "collapsed": false,
    "ExecuteTime": {
     "end_time": "2025-02-24T10:47:40.083697Z",
     "start_time": "2025-02-24T10:47:40.078120Z"
    }
   },
   "id": "11703198cb6ca250",
   "execution_count": 17
  },
  {
   "cell_type": "code",
   "outputs": [
    {
     "data": {
      "text/plain": "tensor([[ 0.7621, -0.0428],\n        [ 1.1063,  0.7890],\n        [ 1.1164, -2.1336]], grad_fn=<MmBackward0>)"
     },
     "execution_count": 18,
     "metadata": {},
     "output_type": "execute_result"
    }
   ],
   "source": [
    "q = selfAttention.W_q(encodings_matrix)\n",
    "q"
   ],
   "metadata": {
    "collapsed": false,
    "ExecuteTime": {
     "end_time": "2025-02-24T10:47:46.511208Z",
     "start_time": "2025-02-24T10:47:46.506009Z"
    }
   },
   "id": "cffbe6ccb1dc8711",
   "execution_count": 18
  },
  {
   "cell_type": "code",
   "outputs": [
    {
     "data": {
      "text/plain": "tensor([[-0.1469, -0.3038],\n        [ 0.1057,  0.3685],\n        [-0.9914, -2.4152]], grad_fn=<MmBackward0>)"
     },
     "execution_count": 19,
     "metadata": {},
     "output_type": "execute_result"
    }
   ],
   "source": [
    "k = selfAttention.W_k(encodings_matrix)\n",
    "k"
   ],
   "metadata": {
    "collapsed": false,
    "ExecuteTime": {
     "end_time": "2025-02-24T10:47:53.323249Z",
     "start_time": "2025-02-24T10:47:53.318688Z"
    }
   },
   "id": "b8d1ae9a2734bd2f",
   "execution_count": 19
  },
  {
   "cell_type": "code",
   "outputs": [
    {
     "data": {
      "text/plain": "tensor([[-0.0990,  0.0648, -0.6523],\n        [-0.4022,  0.4078, -3.0024],\n        [ 0.4842, -0.6683,  4.0461]], grad_fn=<MmBackward0>)"
     },
     "execution_count": 20,
     "metadata": {},
     "output_type": "execute_result"
    }
   ],
   "source": [
    "sims = torch.matmul(q, k.transpose(dim0=0, dim1=1))\n",
    "sims"
   ],
   "metadata": {
    "collapsed": false,
    "ExecuteTime": {
     "end_time": "2025-02-24T10:48:00.244102Z",
     "start_time": "2025-02-24T10:48:00.239128Z"
    }
   },
   "id": "643b0b7537191855",
   "execution_count": 20
  },
  {
   "cell_type": "code",
   "outputs": [
    {
     "data": {
      "text/plain": "tensor([[-0.0700,  0.0458, -0.4612],\n        [-0.2844,  0.2883, -2.1230],\n        [ 0.3424, -0.4725,  2.8610]], grad_fn=<DivBackward0>)"
     },
     "execution_count": 21,
     "metadata": {},
     "output_type": "execute_result"
    }
   ],
   "source": [
    "scaled_sims = sims / (torch.tensor(2)**0.5)\n",
    "scaled_sims"
   ],
   "metadata": {
    "collapsed": false,
    "ExecuteTime": {
     "end_time": "2025-02-24T10:48:25.904241Z",
     "start_time": "2025-02-24T10:48:25.898072Z"
    }
   },
   "id": "fb0f09d1e7018745",
   "execution_count": 21
  },
  {
   "cell_type": "code",
   "outputs": [
    {
     "data": {
      "text/plain": "tensor([[0.3573, 0.4011, 0.2416],\n        [0.3410, 0.6047, 0.0542],\n        [0.0722, 0.0320, 0.8959]], grad_fn=<SoftmaxBackward0>)"
     },
     "execution_count": 22,
     "metadata": {},
     "output_type": "execute_result"
    }
   ],
   "source": [
    "attention_percents = F.softmax(scaled_sims, dim=1)\n",
    "attention_percents"
   ],
   "metadata": {
    "collapsed": false,
    "ExecuteTime": {
     "end_time": "2025-02-24T10:48:40.009725Z",
     "start_time": "2025-02-24T10:48:40.003831Z"
    }
   },
   "id": "9daea17d410f1c5f",
   "execution_count": 22
  },
  {
   "cell_type": "code",
   "outputs": [
    {
     "data": {
      "text/plain": "tensor([[1.0100, 1.0641],\n        [0.2040, 0.7057],\n        [3.4989, 2.2427]], grad_fn=<MmBackward0>)"
     },
     "execution_count": 23,
     "metadata": {},
     "output_type": "execute_result"
    }
   ],
   "source": [
    "torch.matmul(attention_percents, selfAttention.W_v(encodings_matrix))"
   ],
   "metadata": {
    "collapsed": false,
    "ExecuteTime": {
     "end_time": "2025-02-24T10:48:52.333270Z",
     "start_time": "2025-02-24T10:48:52.327023Z"
    }
   },
   "id": "d0337185162f9fb1",
   "execution_count": 23
  },
  {
   "cell_type": "code",
   "outputs": [],
   "source": [],
   "metadata": {
    "collapsed": false
   },
   "id": "93153823e5edec49"
  }
 ],
 "metadata": {
  "kernelspec": {
   "display_name": "Python 3",
   "language": "python",
   "name": "python3"
  },
  "language_info": {
   "codemirror_mode": {
    "name": "ipython",
    "version": 2
   },
   "file_extension": ".py",
   "mimetype": "text/x-python",
   "name": "python",
   "nbconvert_exporter": "python",
   "pygments_lexer": "ipython2",
   "version": "2.7.6"
  }
 },
 "nbformat": 4,
 "nbformat_minor": 5
}
