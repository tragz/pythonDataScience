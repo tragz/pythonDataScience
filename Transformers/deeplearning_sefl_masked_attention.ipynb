{
 "cells": [
  {
   "cell_type": "code",
   "execution_count": 1,
   "id": "initial_id",
   "metadata": {
    "collapsed": true,
    "ExecuteTime": {
     "end_time": "2025-02-24T12:01:23.194207Z",
     "start_time": "2025-02-24T12:01:22.524660Z"
    }
   },
   "outputs": [],
   "source": [
    "import torch\n",
    "import torch.nn as nn\n",
    "import torch.nn.functional as F\n",
    "\n"
   ]
  },
  {
   "cell_type": "code",
   "outputs": [],
   "source": [
    "class MaskedSelfAttention(nn.Module):\n",
    "    def __init__(self, d_model=2, row_dim=0, col_dim=1):\n",
    "        super().__init__()\n",
    "        self.W_q = nn.Linear(in_features=d_model, out_features=d_model, bias=False)\n",
    "        self.W_k = nn.Linear(in_features=d_model, out_features=d_model, bias=False)\n",
    "        self.W_v = nn.Linear(in_features=d_model, out_features=d_model, bias=False)\n",
    "        \n",
    "        self.row_dim = row_dim\n",
    "        self.col_dim = col_dim\n",
    "        \n",
    "    def forward(self, token_encoding, mask=None):\n",
    "        q = self.W_q(token_encoding)\n",
    "        k = self.W_k(token_encoding)\n",
    "        v = self.W_v(token_encoding)\n",
    "        \n",
    "        sims = torch.matmul(q, k.transpose(dim0=self.row_dim, dim1=self.col_dim))\n",
    "        \n",
    "        scaled_sims = sims / torch.tensor(k.size(self.col_dim)**0.5)\n",
    "        \n",
    "        if mask is not None:\n",
    "            ## Here we are masking out things we don't want to pay attention to\n",
    "            ##\n",
    "            ## We replace values we wanted masked out\n",
    "            ## with a very small negative number so that the SoftMax() function\n",
    "            ## will give all masked elements an output value (or \"probability\") of 0.\n",
    "            scaled_sims = scaled_sims.masked_fill(mask=mask, value=-1e9) # I've also seen -1e20 and -9e15 used in masking\n",
    "\n",
    "        attention_percents = F.softmax(scaled_sims, dim=self.col_dim)\n",
    "        \n",
    "        attention_scores = torch.matmul(attention_percents, v)\n",
    "        \n",
    "        return attention_scores"
   ],
   "metadata": {
    "collapsed": false,
    "ExecuteTime": {
     "end_time": "2025-02-24T12:07:17.404628Z",
     "start_time": "2025-02-24T12:07:17.401075Z"
    }
   },
   "id": "2571859f91da2e6d",
   "execution_count": 2
  },
  {
   "cell_type": "code",
   "outputs": [
    {
     "data": {
      "text/plain": "<torch._C.Generator at 0x1144b1e30>"
     },
     "execution_count": 3,
     "metadata": {},
     "output_type": "execute_result"
    }
   ],
   "source": [
    "## create a matrix of token encodings...\n",
    "encodings_matrix = torch.tensor([[1.16, 0.23],\n",
    "                                 [0.57, 1.36],\n",
    "                                 [4.41, -2.16]])\n",
    "\n",
    "## set the seed for the random number generator\n",
    "torch.manual_seed(42)"
   ],
   "metadata": {
    "collapsed": false,
    "ExecuteTime": {
     "end_time": "2025-02-24T12:07:31.189709Z",
     "start_time": "2025-02-24T12:07:31.184825Z"
    }
   },
   "id": "7402fcce8bbfb123",
   "execution_count": 3
  },
  {
   "cell_type": "code",
   "outputs": [],
   "source": [
    "## create a masked self-attention object\n",
    "maskedSelfAttention = MaskedSelfAttention(d_model=2,\n",
    "                               row_dim=0,\n",
    "                               col_dim=1)"
   ],
   "metadata": {
    "collapsed": false,
    "ExecuteTime": {
     "end_time": "2025-02-24T12:07:40.300902Z",
     "start_time": "2025-02-24T12:07:40.297920Z"
    }
   },
   "id": "1d3a7f0229f28c97",
   "execution_count": 4
  },
  {
   "cell_type": "code",
   "outputs": [
    {
     "name": "stdout",
     "output_type": "stream",
     "text": [
      "tensor([[1., 0., 0.],\n",
      "        [1., 1., 0.],\n",
      "        [1., 1., 1.]])\n"
     ]
    },
    {
     "data": {
      "text/plain": "tensor([[False,  True,  True],\n        [False, False,  True],\n        [False, False, False]])"
     },
     "execution_count": 6,
     "metadata": {},
     "output_type": "execute_result"
    }
   ],
   "source": [
    "## create the mask so that we don't use\n",
    "## tokens that come after a token of interest\n",
    "mask = torch.tril(torch.ones(3, 3))\n",
    "print(mask)\n",
    "mask = mask == 0\n",
    "mask # print out the mask"
   ],
   "metadata": {
    "collapsed": false,
    "ExecuteTime": {
     "end_time": "2025-02-24T12:08:22.767330Z",
     "start_time": "2025-02-24T12:08:22.758991Z"
    }
   },
   "id": "5f3ed2bf3370df59",
   "execution_count": 6
  },
  {
   "cell_type": "code",
   "outputs": [
    {
     "data": {
      "text/plain": "tensor([[ 0.6038,  0.7434],\n        [-0.0062,  0.6072],\n        [ 3.4989,  2.2427]], grad_fn=<MmBackward0>)"
     },
     "execution_count": 7,
     "metadata": {},
     "output_type": "execute_result"
    }
   ],
   "source": [
    "maskedSelfAttention(encodings_matrix, mask)"
   ],
   "metadata": {
    "collapsed": false,
    "ExecuteTime": {
     "end_time": "2025-02-24T12:08:47.389836Z",
     "start_time": "2025-02-24T12:08:47.379651Z"
    }
   },
   "id": "7e77f52ec944eddb",
   "execution_count": 7
  },
  {
   "cell_type": "code",
   "outputs": [
    {
     "data": {
      "text/plain": "tensor([[ 0.5406, -0.1657],\n        [ 0.5869,  0.6496]], grad_fn=<TransposeBackward0>)"
     },
     "execution_count": 8,
     "metadata": {},
     "output_type": "execute_result"
    }
   ],
   "source": [
    "## print out the weight matrix that creates the queries\n",
    "maskedSelfAttention.W_q.weight.transpose(0, 1)"
   ],
   "metadata": {
    "collapsed": false,
    "ExecuteTime": {
     "end_time": "2025-02-24T12:09:11.672279Z",
     "start_time": "2025-02-24T12:09:11.668749Z"
    }
   },
   "id": "b85a2c3096f57c55",
   "execution_count": 8
  },
  {
   "cell_type": "code",
   "outputs": [
    {
     "data": {
      "text/plain": "tensor([[-0.1549, -0.3443],\n        [ 0.1427,  0.4153]], grad_fn=<TransposeBackward0>)"
     },
     "execution_count": 9,
     "metadata": {},
     "output_type": "execute_result"
    }
   ],
   "source": [
    "## print out the weight matrix that creates the keys\n",
    "maskedSelfAttention.W_k.weight.transpose(0, 1)"
   ],
   "metadata": {
    "collapsed": false,
    "ExecuteTime": {
     "end_time": "2025-02-24T12:09:31.043552Z",
     "start_time": "2025-02-24T12:09:31.038134Z"
    }
   },
   "id": "ca9e0f2019765437",
   "execution_count": 9
  },
  {
   "cell_type": "code",
   "outputs": [
    {
     "data": {
      "text/plain": "tensor([[ 0.6233,  0.6146],\n        [-0.5188,  0.1323]], grad_fn=<TransposeBackward0>)"
     },
     "execution_count": 10,
     "metadata": {},
     "output_type": "execute_result"
    }
   ],
   "source": [
    "## print out the weight matrix that creates the values\n",
    "maskedSelfAttention.W_v.weight.transpose(0, 1)"
   ],
   "metadata": {
    "collapsed": false,
    "ExecuteTime": {
     "end_time": "2025-02-24T12:09:40.722924Z",
     "start_time": "2025-02-24T12:09:40.718715Z"
    }
   },
   "id": "f1b7e49edd8f3abd",
   "execution_count": 10
  },
  {
   "cell_type": "code",
   "outputs": [
    {
     "data": {
      "text/plain": "tensor([[ 0.7621, -0.0428],\n        [ 1.1063,  0.7890],\n        [ 1.1164, -2.1336]], grad_fn=<MmBackward0>)"
     },
     "execution_count": 11,
     "metadata": {},
     "output_type": "execute_result"
    }
   ],
   "source": [
    "## calculate the queries\n",
    "maskedSelfAttention.W_q(encodings_matrix)"
   ],
   "metadata": {
    "collapsed": false,
    "ExecuteTime": {
     "end_time": "2025-02-24T12:09:51.377970Z",
     "start_time": "2025-02-24T12:09:51.373903Z"
    }
   },
   "id": "596147957147a1a3",
   "execution_count": 11
  },
  {
   "cell_type": "code",
   "outputs": [
    {
     "data": {
      "text/plain": "tensor([[-0.1469, -0.3038],\n        [ 0.1057,  0.3685],\n        [-0.9914, -2.4152]], grad_fn=<MmBackward0>)"
     },
     "execution_count": 12,
     "metadata": {},
     "output_type": "execute_result"
    }
   ],
   "source": [
    "## calculate the keys\n",
    "maskedSelfAttention.W_k(encodings_matrix)"
   ],
   "metadata": {
    "collapsed": false,
    "ExecuteTime": {
     "end_time": "2025-02-24T12:09:59.343132Z",
     "start_time": "2025-02-24T12:09:59.337484Z"
    }
   },
   "id": "28123ae94a1f2532",
   "execution_count": 12
  },
  {
   "cell_type": "code",
   "outputs": [
    {
     "data": {
      "text/plain": "tensor([[ 0.6038,  0.7434],\n        [-0.3502,  0.5303],\n        [ 3.8695,  2.4246]], grad_fn=<MmBackward0>)"
     },
     "execution_count": 13,
     "metadata": {},
     "output_type": "execute_result"
    }
   ],
   "source": [
    "## calculate the values\n",
    "maskedSelfAttention.W_v(encodings_matrix)"
   ],
   "metadata": {
    "collapsed": false,
    "ExecuteTime": {
     "end_time": "2025-02-24T12:10:05.811832Z",
     "start_time": "2025-02-24T12:10:05.806795Z"
    }
   },
   "id": "ee8c7a286217e955",
   "execution_count": 13
  },
  {
   "cell_type": "code",
   "outputs": [
    {
     "data": {
      "text/plain": "tensor([[ 0.7621, -0.0428],\n        [ 1.1063,  0.7890],\n        [ 1.1164, -2.1336]], grad_fn=<MmBackward0>)"
     },
     "execution_count": 14,
     "metadata": {},
     "output_type": "execute_result"
    }
   ],
   "source": [
    "q = maskedSelfAttention.W_q(encodings_matrix)\n",
    "q"
   ],
   "metadata": {
    "collapsed": false,
    "ExecuteTime": {
     "end_time": "2025-02-24T12:10:30.042318Z",
     "start_time": "2025-02-24T12:10:30.036645Z"
    }
   },
   "id": "f11b0b890971dead",
   "execution_count": 14
  },
  {
   "cell_type": "code",
   "outputs": [
    {
     "data": {
      "text/plain": "tensor([[-0.1469, -0.3038],\n        [ 0.1057,  0.3685],\n        [-0.9914, -2.4152]], grad_fn=<MmBackward0>)"
     },
     "execution_count": 15,
     "metadata": {},
     "output_type": "execute_result"
    }
   ],
   "source": [
    "k = maskedSelfAttention.W_k(encodings_matrix)\n",
    "k"
   ],
   "metadata": {
    "collapsed": false,
    "ExecuteTime": {
     "end_time": "2025-02-24T12:10:52.439932Z",
     "start_time": "2025-02-24T12:10:52.433933Z"
    }
   },
   "id": "ca93f646eaf1ce64",
   "execution_count": 15
  },
  {
   "cell_type": "code",
   "outputs": [
    {
     "data": {
      "text/plain": "tensor([[ 0.6038,  0.7434],\n        [-0.3502,  0.5303],\n        [ 3.8695,  2.4246]], grad_fn=<MmBackward0>)"
     },
     "execution_count": 16,
     "metadata": {},
     "output_type": "execute_result"
    }
   ],
   "source": [
    "v = maskedSelfAttention.W_v(encodings_matrix)\n",
    "v"
   ],
   "metadata": {
    "collapsed": false,
    "ExecuteTime": {
     "end_time": "2025-02-24T12:11:02.283387Z",
     "start_time": "2025-02-24T12:11:02.278401Z"
    }
   },
   "id": "d6f0577f6a9d1ae9",
   "execution_count": 16
  },
  {
   "cell_type": "code",
   "outputs": [
    {
     "data": {
      "text/plain": "tensor([[-0.0990,  0.0648, -0.6523],\n        [-0.4022,  0.4078, -3.0024],\n        [ 0.4842, -0.6683,  4.0461]], grad_fn=<MmBackward0>)"
     },
     "execution_count": 17,
     "metadata": {},
     "output_type": "execute_result"
    }
   ],
   "source": [
    "sims = torch.matmul(q, k.transpose(dim0=0, dim1=1))\n",
    "sims"
   ],
   "metadata": {
    "collapsed": false,
    "ExecuteTime": {
     "end_time": "2025-02-24T12:11:20.024605Z",
     "start_time": "2025-02-24T12:11:20.018886Z"
    }
   },
   "id": "4c36d63bc8e02ad4",
   "execution_count": 17
  },
  {
   "cell_type": "code",
   "outputs": [],
   "source": [
    "scaled_sims = sims / (torch.tensor(2)**0.5)"
   ],
   "metadata": {
    "collapsed": false,
    "ExecuteTime": {
     "end_time": "2025-02-24T12:11:28.287095Z",
     "start_time": "2025-02-24T12:11:28.284220Z"
    }
   },
   "id": "c321ca0d9cbd93d8",
   "execution_count": 18
  },
  {
   "cell_type": "code",
   "outputs": [
    {
     "data": {
      "text/plain": "tensor([[-0.0700,  0.0458, -0.4612],\n        [-0.2844,  0.2883, -2.1230],\n        [ 0.3424, -0.4725,  2.8610]], grad_fn=<DivBackward0>)"
     },
     "execution_count": 19,
     "metadata": {},
     "output_type": "execute_result"
    }
   ],
   "source": [
    "scaled_sims"
   ],
   "metadata": {
    "collapsed": false,
    "ExecuteTime": {
     "end_time": "2025-02-24T12:11:35.133615Z",
     "start_time": "2025-02-24T12:11:35.128584Z"
    }
   },
   "id": "770124d99b5b69af",
   "execution_count": 19
  },
  {
   "cell_type": "code",
   "outputs": [
    {
     "data": {
      "text/plain": "tensor([[-6.9975e-02, -1.0000e+09, -1.0000e+09],\n        [-2.8442e-01,  2.8833e-01, -1.0000e+09],\n        [ 3.4241e-01, -4.7253e-01,  2.8610e+00]],\n       grad_fn=<MaskedFillBackward0>)"
     },
     "execution_count": 20,
     "metadata": {},
     "output_type": "execute_result"
    }
   ],
   "source": [
    "masked_scaled_sims = scaled_sims.masked_fill(mask=mask, value=-1e9)\n",
    "masked_scaled_sims"
   ],
   "metadata": {
    "collapsed": false,
    "ExecuteTime": {
     "end_time": "2025-02-24T12:11:45.990448Z",
     "start_time": "2025-02-24T12:11:45.978429Z"
    }
   },
   "id": "e6f4a935cd2fddf3",
   "execution_count": 20
  },
  {
   "cell_type": "code",
   "outputs": [
    {
     "data": {
      "text/plain": "tensor([[1.0000, 0.0000, 0.0000],\n        [0.3606, 0.6394, 0.0000],\n        [0.0722, 0.0320, 0.8959]], grad_fn=<SoftmaxBackward0>)"
     },
     "execution_count": 21,
     "metadata": {},
     "output_type": "execute_result"
    }
   ],
   "source": [
    "attention_percents = F.softmax(masked_scaled_sims, dim=1)\n",
    "attention_percents"
   ],
   "metadata": {
    "collapsed": false,
    "ExecuteTime": {
     "end_time": "2025-02-24T12:12:00.180Z",
     "start_time": "2025-02-24T12:12:00.171517Z"
    }
   },
   "id": "2d25ed2607da54f",
   "execution_count": 21
  },
  {
   "cell_type": "code",
   "outputs": [
    {
     "data": {
      "text/plain": "tensor([[ 0.6038,  0.7434],\n        [-0.0062,  0.6072],\n        [ 3.4989,  2.2427]], grad_fn=<MmBackward0>)"
     },
     "execution_count": 22,
     "metadata": {},
     "output_type": "execute_result"
    }
   ],
   "source": [
    "torch.matmul(attention_percents, maskedSelfAttention.W_v(encodings_matrix))"
   ],
   "metadata": {
    "collapsed": false,
    "ExecuteTime": {
     "end_time": "2025-02-24T12:12:09.750126Z",
     "start_time": "2025-02-24T12:12:09.745185Z"
    }
   },
   "id": "a1c566c4d7d63cc9",
   "execution_count": 22
  },
  {
   "cell_type": "code",
   "outputs": [
    {
     "data": {
      "text/plain": "tensor([[1.0100, 1.0641],\n        [0.2040, 0.7057],\n        [3.4989, 2.2427]], grad_fn=<MmBackward0>)"
     },
     "execution_count": 24,
     "metadata": {},
     "output_type": "execute_result"
    }
   ],
   "source": [
    "mask=None\n",
    "maskedSelfAttention(encodings_matrix, mask)\n"
   ],
   "metadata": {
    "collapsed": false,
    "ExecuteTime": {
     "end_time": "2025-02-24T12:13:48.304808Z",
     "start_time": "2025-02-24T12:13:48.299450Z"
    }
   },
   "id": "a57d102b503069b1",
   "execution_count": 24
  },
  {
   "cell_type": "code",
   "outputs": [],
   "source": [],
   "metadata": {
    "collapsed": false
   },
   "id": "f599d954010b89d2"
  }
 ],
 "metadata": {
  "kernelspec": {
   "display_name": "Python 3",
   "language": "python",
   "name": "python3"
  },
  "language_info": {
   "codemirror_mode": {
    "name": "ipython",
    "version": 2
   },
   "file_extension": ".py",
   "mimetype": "text/x-python",
   "name": "python",
   "nbconvert_exporter": "python",
   "pygments_lexer": "ipython2",
   "version": "2.7.6"
  }
 },
 "nbformat": 4,
 "nbformat_minor": 5
}
