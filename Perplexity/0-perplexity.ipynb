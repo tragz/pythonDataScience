{
 "cells": [
  {
   "cell_type": "code",
   "execution_count": 1,
   "id": "initial_id",
   "metadata": {
    "collapsed": true,
    "ExecuteTime": {
     "end_time": "2024-07-17T06:26:06.167254Z",
     "start_time": "2024-07-17T06:26:06.160355Z"
    }
   },
   "outputs": [
    {
     "ename": "SyntaxError",
     "evalue": "expected argument value expression (227973713.py, line 2)",
     "output_type": "error",
     "traceback": [
      "\u001B[0;36m  Cell \u001B[0;32mIn[1], line 2\u001B[0;36m\u001B[0m\n\u001B[0;31m    perplexity = load(\"perplexity\", module_type=)\u001B[0m\n\u001B[0m                                    ^\u001B[0m\n\u001B[0;31mSyntaxError\u001B[0m\u001B[0;31m:\u001B[0m expected argument value expression\n"
     ]
    }
   ],
   "source": [
    "import datasets\n",
    "from evaluate import load\n",
    "perplexity = load(\"perplexity\", module_type=\"metric\")\n",
    "results = perplexity.compute(predictions=predictions, model_id='gpt2')\n"
   ]
  },
  {
   "cell_type": "code",
   "outputs": [],
   "source": [
    "from evaluate import load\n",
    "import datasets"
   ],
   "metadata": {
    "collapsed": false,
    "ExecuteTime": {
     "end_time": "2024-07-17T06:30:41.399316Z",
     "start_time": "2024-07-17T06:30:41.395549Z"
    }
   },
   "id": "793a38560d8b113",
   "execution_count": 10
  },
  {
   "cell_type": "code",
   "outputs": [],
   "source": [
    "perplexity = load(\"perplexity\", module_type=\"metric\")"
   ],
   "metadata": {
    "collapsed": false,
    "ExecuteTime": {
     "end_time": "2024-07-17T06:30:46.250762Z",
     "start_time": "2024-07-17T06:30:44.513987Z"
    }
   },
   "id": "78d32c5d821232be",
   "execution_count": 11
  },
  {
   "cell_type": "code",
   "outputs": [],
   "source": [
    "input_texts = [\"lorem ipsum\", \"Happy Birthday!\", \"Bienvenue\"]"
   ],
   "metadata": {
    "collapsed": false,
    "ExecuteTime": {
     "end_time": "2024-07-17T06:30:46.255632Z",
     "start_time": "2024-07-17T06:30:46.251264Z"
    }
   },
   "id": "b6fd41e1dd529829",
   "execution_count": 12
  },
  {
   "cell_type": "code",
   "outputs": [
    {
     "data": {
      "text/plain": "  0%|          | 0/1 [00:00<?, ?it/s]",
      "application/vnd.jupyter.widget-view+json": {
       "version_major": 2,
       "version_minor": 0,
       "model_id": "5c786f3b40284c9788278a9f60133d44"
      }
     },
     "metadata": {},
     "output_type": "display_data"
    },
    {
     "name": "stdout",
     "output_type": "stream",
     "text": [
      "['perplexities', 'mean_perplexity']\n"
     ]
    }
   ],
   "source": [
    "results = perplexity.compute(model_id='gpt2',\n",
    "                             add_start_token=False,\n",
    "                             predictions=input_texts)\n",
    "print(list(results.keys()))"
   ],
   "metadata": {
    "collapsed": false,
    "ExecuteTime": {
     "end_time": "2024-07-17T06:30:47.387160Z",
     "start_time": "2024-07-17T06:30:46.288002Z"
    }
   },
   "id": "41276923cdb0c200",
   "execution_count": 13
  },
  {
   "cell_type": "code",
   "outputs": [
    {
     "data": {
      "text/plain": "{'perplexities': [32.25153350830078, 1499.6353759765625, 408.26837158203125],\n 'mean_perplexity': 646.7184270222982}"
     },
     "execution_count": 14,
     "metadata": {},
     "output_type": "execute_result"
    }
   ],
   "source": [
    "results"
   ],
   "metadata": {
    "collapsed": false,
    "ExecuteTime": {
     "end_time": "2024-07-17T06:30:47.390768Z",
     "start_time": "2024-07-17T06:30:47.386266Z"
    }
   },
   "id": "d59c4f6c52838f49",
   "execution_count": 14
  },
  {
   "cell_type": "code",
   "outputs": [
    {
     "data": {
      "text/plain": "Downloading readme:   0%|          | 0.00/10.5k [00:00<?, ?B/s]",
      "application/vnd.jupyter.widget-view+json": {
       "version_major": 2,
       "version_minor": 0,
       "model_id": "889f7445245b4104a1d7e5909fdd79b9"
      }
     },
     "metadata": {},
     "output_type": "display_data"
    },
    {
     "data": {
      "text/plain": "Downloading data:   0%|          | 0.00/733k [00:00<?, ?B/s]",
      "application/vnd.jupyter.widget-view+json": {
       "version_major": 2,
       "version_minor": 0,
       "model_id": "b7fb419e3f6842baae56cc0315f5a1d5"
      }
     },
     "metadata": {},
     "output_type": "display_data"
    },
    {
     "data": {
      "text/plain": "Downloading data:   0%|          | 0.00/6.36M [00:00<?, ?B/s]",
      "application/vnd.jupyter.widget-view+json": {
       "version_major": 2,
       "version_minor": 0,
       "model_id": "8640cbb2c3ee43d09e16a13c0f08cfbf"
      }
     },
     "metadata": {},
     "output_type": "display_data"
    },
    {
     "data": {
      "text/plain": "Downloading data:   0%|          | 0.00/657k [00:00<?, ?B/s]",
      "application/vnd.jupyter.widget-view+json": {
       "version_major": 2,
       "version_minor": 0,
       "model_id": "c6d5034441a84af7a36378aac2d901a7"
      }
     },
     "metadata": {},
     "output_type": "display_data"
    },
    {
     "data": {
      "text/plain": "Generating test split:   0%|          | 0/4358 [00:00<?, ? examples/s]",
      "application/vnd.jupyter.widget-view+json": {
       "version_major": 2,
       "version_minor": 0,
       "model_id": "1c177e53985f4dcb8257fde313b35f61"
      }
     },
     "metadata": {},
     "output_type": "display_data"
    },
    {
     "data": {
      "text/plain": "Generating train split:   0%|          | 0/36718 [00:00<?, ? examples/s]",
      "application/vnd.jupyter.widget-view+json": {
       "version_major": 2,
       "version_minor": 0,
       "model_id": "71e1a36fb3d8413c9a5e631649f867b1"
      }
     },
     "metadata": {},
     "output_type": "display_data"
    },
    {
     "data": {
      "text/plain": "Generating validation split:   0%|          | 0/3760 [00:00<?, ? examples/s]",
      "application/vnd.jupyter.widget-view+json": {
       "version_major": 2,
       "version_minor": 0,
       "model_id": "a31c6cea7ef5454dabab47b0f787001e"
      }
     },
     "metadata": {},
     "output_type": "display_data"
    },
    {
     "data": {
      "text/plain": "  0%|          | 0/2 [00:00<?, ?it/s]",
      "application/vnd.jupyter.widget-view+json": {
       "version_major": 2,
       "version_minor": 0,
       "model_id": "8b3c6873d8e2495b9cabacf2679207a9"
      }
     },
     "metadata": {},
     "output_type": "display_data"
    },
    {
     "name": "stdout",
     "output_type": "stream",
     "text": [
      "['perplexities', 'mean_perplexity']\n"
     ]
    }
   ],
   "source": [
    "perplexity = load(\"perplexity\", module_type=\"metric\")\n",
    "input_texts = datasets.load_dataset(\"wikitext\",\n",
    "                                    \"wikitext-2-raw-v1\",\n",
    "                                    split=\"test\")[\"text\"][:50]\n",
    "input_texts = [s for s in input_texts if s!='']\n",
    "results = perplexity.compute(model_id='gpt2',\n",
    "                             predictions=input_texts)\n",
    "print(list(results.keys()))"
   ],
   "metadata": {
    "collapsed": false,
    "ExecuteTime": {
     "end_time": "2024-07-17T06:31:12.589902Z",
     "start_time": "2024-07-17T06:30:47.636446Z"
    }
   },
   "id": "8db5d17a68933087",
   "execution_count": 15
  },
  {
   "cell_type": "code",
   "outputs": [
    {
     "data": {
      "text/plain": "{'perplexities': [567.9055786132812,\n  56.67517852783203,\n  43.75150680541992,\n  446.3116455078125,\n  105.64205932617188,\n  46.819618225097656,\n  58.58174514770508,\n  104.2411117553711,\n  54.72474670410156,\n  47.75747299194336,\n  344.9814453125,\n  125.95156860351562,\n  127.30086517333984,\n  121.87503051757812,\n  5530.96337890625,\n  63.255794525146484,\n  40.261260986328125,\n  221.2111053466797,\n  67.87378692626953,\n  124.36309814453125,\n  51.451175689697266,\n  28.862470626831055,\n  90.88334655761719,\n  52.91472244262695,\n  43.792728424072266,\n  65.90277099609375,\n  28.637252807617188],\n 'mean_perplexity': 320.8478690959789}"
     },
     "execution_count": 16,
     "metadata": {},
     "output_type": "execute_result"
    }
   ],
   "source": [
    "results"
   ],
   "metadata": {
    "collapsed": false,
    "ExecuteTime": {
     "end_time": "2024-07-17T06:31:33.850281Z",
     "start_time": "2024-07-17T06:31:33.845451Z"
    }
   },
   "id": "a3a7634d9df545cf",
   "execution_count": 16
  },
  {
   "cell_type": "code",
   "outputs": [],
   "source": [],
   "metadata": {
    "collapsed": false
   },
   "id": "7a7aa4b2e21f5c94"
  }
 ],
 "metadata": {
  "kernelspec": {
   "display_name": "Python 3",
   "language": "python",
   "name": "python3"
  },
  "language_info": {
   "codemirror_mode": {
    "name": "ipython",
    "version": 2
   },
   "file_extension": ".py",
   "mimetype": "text/x-python",
   "name": "python",
   "nbconvert_exporter": "python",
   "pygments_lexer": "ipython2",
   "version": "2.7.6"
  }
 },
 "nbformat": 4,
 "nbformat_minor": 5
}
