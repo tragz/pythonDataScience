{
 "cells": [
  {
   "cell_type": "code",
   "execution_count": 1,
   "id": "a3d4a603",
   "metadata": {},
   "outputs": [],
   "source": [
    "\n",
    "arr = [ 11, 22, 33, 44, 55, 66, 77, 88, 99]\n"
   ]
  },
  {
   "cell_type": "code",
   "execution_count": 75,
   "id": "45d2d617",
   "metadata": {},
   "outputs": [],
   "source": [
    "# DAY 1 : Data \n",
    "# https://drive.google.com/drive/folders/1UZE8gORol3NcRuViuYZV-ZDWUtSMKzKc"
   ]
  },
  {
   "cell_type": "code",
   "execution_count": 2,
   "id": "0e87fe93",
   "metadata": {},
   "outputs": [
    {
     "data": {
      "text/plain": [
       "[11, 22, 33, 44, 55, 66, 77, 88, 99]"
      ]
     },
     "execution_count": 2,
     "metadata": {},
     "output_type": "execute_result"
    }
   ],
   "source": [
    "arr\n"
   ]
  },
  {
   "cell_type": "code",
   "execution_count": 3,
   "id": "0858758d",
   "metadata": {},
   "outputs": [
    {
     "data": {
      "text/plain": [
       "[11,\n",
       " 22,\n",
       " 33,\n",
       " 44,\n",
       " 55,\n",
       " 66,\n",
       " 77,\n",
       " 88,\n",
       " 99,\n",
       " 11,\n",
       " 22,\n",
       " 33,\n",
       " 44,\n",
       " 55,\n",
       " 66,\n",
       " 77,\n",
       " 88,\n",
       " 99,\n",
       " 11,\n",
       " 22,\n",
       " 33,\n",
       " 44,\n",
       " 55,\n",
       " 66,\n",
       " 77,\n",
       " 88,\n",
       " 99,\n",
       " 11,\n",
       " 22,\n",
       " 33,\n",
       " 44,\n",
       " 55,\n",
       " 66,\n",
       " 77,\n",
       " 88,\n",
       " 99,\n",
       " 11,\n",
       " 22,\n",
       " 33,\n",
       " 44,\n",
       " 55,\n",
       " 66,\n",
       " 77,\n",
       " 88,\n",
       " 99,\n",
       " 11,\n",
       " 22,\n",
       " 33,\n",
       " 44,\n",
       " 55,\n",
       " 66,\n",
       " 77,\n",
       " 88,\n",
       " 99,\n",
       " 11,\n",
       " 22,\n",
       " 33,\n",
       " 44,\n",
       " 55,\n",
       " 66,\n",
       " 77,\n",
       " 88,\n",
       " 99,\n",
       " 11,\n",
       " 22,\n",
       " 33,\n",
       " 44,\n",
       " 55,\n",
       " 66,\n",
       " 77,\n",
       " 88,\n",
       " 99,\n",
       " 11,\n",
       " 22,\n",
       " 33,\n",
       " 44,\n",
       " 55,\n",
       " 66,\n",
       " 77,\n",
       " 88,\n",
       " 99,\n",
       " 11,\n",
       " 22,\n",
       " 33,\n",
       " 44,\n",
       " 55,\n",
       " 66,\n",
       " 77,\n",
       " 88,\n",
       " 99]"
      ]
     },
     "execution_count": 3,
     "metadata": {},
     "output_type": "execute_result"
    }
   ],
   "source": [
    "arr*10"
   ]
  },
  {
   "cell_type": "code",
   "execution_count": 5,
   "id": "7629d063",
   "metadata": {},
   "outputs": [
    {
     "data": {
      "text/plain": [
       "array([11, 22, 33, 44, 55, 66, 77, 88, 99])"
      ]
     },
     "execution_count": 5,
     "metadata": {},
     "output_type": "execute_result"
    }
   ],
   "source": [
    "import numpy as np\n",
    "nparr = np.array(arr)\n",
    "nparr"
   ]
  },
  {
   "cell_type": "code",
   "execution_count": 6,
   "id": "27e7044e",
   "metadata": {},
   "outputs": [
    {
     "data": {
      "text/plain": [
       "array([111, 122, 133, 144, 155, 166, 177, 188, 199])"
      ]
     },
     "execution_count": 6,
     "metadata": {},
     "output_type": "execute_result"
    }
   ],
   "source": [
    "nparr+100\n"
   ]
  },
  {
   "cell_type": "code",
   "execution_count": 7,
   "id": "2ac78feb",
   "metadata": {},
   "outputs": [
    {
     "data": {
      "text/plain": [
       "array([ 2, 13, 24, 35, 46, 57, 68, 79, 90])"
      ]
     },
     "execution_count": 7,
     "metadata": {},
     "output_type": "execute_result"
    }
   ],
   "source": [
    "nparr-9"
   ]
  },
  {
   "cell_type": "code",
   "execution_count": 8,
   "id": "1179b9d9",
   "metadata": {},
   "outputs": [
    {
     "data": {
      "text/plain": [
       "array([110, 220, 330, 440, 550, 660, 770, 880, 990])"
      ]
     },
     "execution_count": 8,
     "metadata": {},
     "output_type": "execute_result"
    }
   ],
   "source": [
    "nparr*10"
   ]
  },
  {
   "cell_type": "code",
   "execution_count": 9,
   "id": "857f7ce5",
   "metadata": {},
   "outputs": [
    {
     "data": {
      "text/plain": [
       "array([1.1, 2.2, 3.3, 4.4, 5.5, 6.6, 7.7, 8.8, 9.9])"
      ]
     },
     "execution_count": 9,
     "metadata": {},
     "output_type": "execute_result"
    }
   ],
   "source": [
    "nparr/10\n"
   ]
  },
  {
   "cell_type": "code",
   "execution_count": 10,
   "id": "c8dff4a4",
   "metadata": {},
   "outputs": [
    {
     "data": {
      "text/plain": [
       "array([0.1, 0.2, 0.3, 0.4, 0.6, 0.7, 0.8, 0.9, 1. ])"
      ]
     },
     "execution_count": 10,
     "metadata": {},
     "output_type": "execute_result"
    }
   ],
   "source": [
    "np.round(nparr/100,1)"
   ]
  },
  {
   "cell_type": "code",
   "execution_count": 11,
   "id": "f2c4f030",
   "metadata": {},
   "outputs": [
    {
     "name": "stdout",
     "output_type": "stream",
     "text": [
      "99 11 495 55.0\n"
     ]
    }
   ],
   "source": [
    "print(nparr.max(), nparr.min(), nparr.sum(), nparr.mean())"
   ]
  },
  {
   "cell_type": "code",
   "execution_count": 17,
   "id": "55e8ef09",
   "metadata": {},
   "outputs": [],
   "source": [
    "##  Type of Values in Arrays"
   ]
  },
  {
   "cell_type": "code",
   "execution_count": 16,
   "id": "ca50cf3a",
   "metadata": {},
   "outputs": [
    {
     "name": "stdout",
     "output_type": "stream",
     "text": [
      "[11.   22.   33.   44.   67.89]\n"
     ]
    }
   ],
   "source": [
    "mArr  = np.array([11, 22, 33, 44, 67.89])\n",
    "print(mArr)"
   ]
  },
  {
   "cell_type": "code",
   "execution_count": 18,
   "id": "dbdab3f2",
   "metadata": {},
   "outputs": [
    {
     "name": "stdout",
     "output_type": "stream",
     "text": [
      "(5,)\n"
     ]
    }
   ],
   "source": [
    "print(mArr.shape)"
   ]
  },
  {
   "cell_type": "code",
   "execution_count": 19,
   "id": "4095cafe",
   "metadata": {},
   "outputs": [
    {
     "name": "stdout",
     "output_type": "stream",
     "text": [
      "float64\n"
     ]
    }
   ],
   "source": [
    "print(mArr.dtype)"
   ]
  },
  {
   "cell_type": "code",
   "execution_count": 21,
   "id": "95393f8a",
   "metadata": {},
   "outputs": [
    {
     "name": "stdout",
     "output_type": "stream",
     "text": [
      "float64\n"
     ]
    }
   ],
   "source": [
    "print(mArr.dtype)"
   ]
  },
  {
   "cell_type": "markdown",
   "id": "939d1e7c",
   "metadata": {},
   "source": [
    "# Data Types for ndarrays"
   ]
  },
  {
   "cell_type": "code",
   "execution_count": 22,
   "id": "4da77b84",
   "metadata": {},
   "outputs": [],
   "source": [
    "arr1 = np. array([1,2,3], dtype = np.float64)\n",
    "arr2 = np. array([1,2,3], dtype = np.int32)"
   ]
  },
  {
   "cell_type": "code",
   "execution_count": 24,
   "id": "9c5520e2",
   "metadata": {},
   "outputs": [
    {
     "name": "stdout",
     "output_type": "stream",
     "text": [
      "float64\n",
      "int32\n"
     ]
    }
   ],
   "source": [
    "print(arr1.dtype)\n",
    "print(arr2.dtype)"
   ]
  },
  {
   "cell_type": "code",
   "execution_count": 25,
   "id": "a2953b07",
   "metadata": {},
   "outputs": [
    {
     "data": {
      "text/plain": [
       "array([1, 2, 3, 4, 5])"
      ]
     },
     "execution_count": 25,
     "metadata": {},
     "output_type": "execute_result"
    }
   ],
   "source": [
    "arr = np.array([1,2,3,4,5])\n",
    "arr"
   ]
  },
  {
   "cell_type": "code",
   "execution_count": 26,
   "id": "ad133860",
   "metadata": {},
   "outputs": [
    {
     "name": "stdout",
     "output_type": "stream",
     "text": [
      "int64\n"
     ]
    }
   ],
   "source": [
    "print(arr.dtype)"
   ]
  },
  {
   "cell_type": "code",
   "execution_count": 27,
   "id": "5eea916a",
   "metadata": {},
   "outputs": [
    {
     "name": "stdout",
     "output_type": "stream",
     "text": [
      "float64\n"
     ]
    }
   ],
   "source": [
    "float_arr = arr.astype(np.float64)\n",
    "print(float_arr.dtype)\n"
   ]
  },
  {
   "cell_type": "markdown",
   "id": "ff60c110",
   "metadata": {},
   "source": [
    "#            Type        TypeCode\n",
    "\n",
    "    int8          i1, u1         signed & unsigned 8-bit (1-byte) integer types)\n",
    "    int16,uint16  i2, u2         signed & unsigned 16-bit (1-byte) integer types)\n",
    "    int32,uint32  i4, u4         signed & unsigned 32-bit (1-byte) integer types)\n",
    "    int64,uint64  i8, u8         signed & unsigned 64-bit (1-byte) integer types)    \n",
    "    float64       f8,d           standard double-preision floating point\n",
    "    bool          ?              Boolean type storing True & False value\n",
    "    object        o              Python object type, a value can be any python object\n",
    "    string_       S              Fixed length ASCII type ( 1 byte per character )\n",
    "                                 e.g to creat a string dtype with length 10, use 'S10'\n",
    "    unicode_      U              Fixed length Unicode type ( number of bytes platform specific)\n",
    "                                 e.g to create a unicode dtype with length 10, user 'U10'"
   ]
  },
  {
   "cell_type": "code",
   "execution_count": 28,
   "id": "939b32ca",
   "metadata": {},
   "outputs": [
    {
     "data": {
      "text/plain": [
       "array([1, 2, 3, 4, 5])"
      ]
     },
     "execution_count": 28,
     "metadata": {},
     "output_type": "execute_result"
    }
   ],
   "source": [
    "arr"
   ]
  },
  {
   "cell_type": "code",
   "execution_count": 29,
   "id": "a62b7c5f",
   "metadata": {},
   "outputs": [
    {
     "data": {
      "text/plain": [
       "array([False, False, False, False,  True])"
      ]
     },
     "execution_count": 29,
     "metadata": {},
     "output_type": "execute_result"
    }
   ],
   "source": [
    "arr > 4"
   ]
  },
  {
   "cell_type": "code",
   "execution_count": 30,
   "id": "3104c4b4",
   "metadata": {},
   "outputs": [
    {
     "data": {
      "text/plain": [
       "array([5])"
      ]
     },
     "execution_count": 30,
     "metadata": {},
     "output_type": "execute_result"
    }
   ],
   "source": [
    "arr[arr>4] # returns a new value array with values satisfying the condition"
   ]
  },
  {
   "cell_type": "code",
   "execution_count": 31,
   "id": "313b5fac",
   "metadata": {},
   "outputs": [
    {
     "data": {
      "text/plain": [
       "(array([3, 4]),)"
      ]
     },
     "execution_count": 31,
     "metadata": {},
     "output_type": "execute_result"
    }
   ],
   "source": [
    "np.where(arr>3) # returns a new index value array with index value satisfying the condition"
   ]
  },
  {
   "cell_type": "code",
   "execution_count": 32,
   "id": "f0da4e59",
   "metadata": {},
   "outputs": [
    {
     "data": {
      "text/plain": [
       "tuple"
      ]
     },
     "execution_count": 32,
     "metadata": {},
     "output_type": "execute_result"
    }
   ],
   "source": [
    "type(np.where(arr>3))"
   ]
  },
  {
   "cell_type": "code",
   "execution_count": 33,
   "id": "5d6fe282",
   "metadata": {},
   "outputs": [
    {
     "data": {
      "text/plain": [
       "numpy.ndarray"
      ]
     },
     "execution_count": 33,
     "metadata": {},
     "output_type": "execute_result"
    }
   ],
   "source": [
    "type(arr[arr>4])"
   ]
  },
  {
   "cell_type": "markdown",
   "id": "18a69a07",
   "metadata": {},
   "source": [
    "# Slicing"
   ]
  },
  {
   "cell_type": "code",
   "execution_count": 34,
   "id": "7b337dfb",
   "metadata": {},
   "outputs": [],
   "source": [
    "letters = np.array(['a', 'b', 'c', 'd', 'e', 'f', 'g', 'h', 'i', 'j'])"
   ]
  },
  {
   "cell_type": "code",
   "execution_count": 35,
   "id": "7fde9bbd",
   "metadata": {},
   "outputs": [
    {
     "data": {
      "text/plain": [
       "array(['a', 'b', 'c', 'd', 'e', 'f', 'g', 'h', 'i', 'j'], dtype='<U1')"
      ]
     },
     "execution_count": 35,
     "metadata": {},
     "output_type": "execute_result"
    }
   ],
   "source": [
    "letters[:]  #everything from array"
   ]
  },
  {
   "cell_type": "code",
   "execution_count": 36,
   "id": "3c32336e",
   "metadata": {},
   "outputs": [
    {
     "data": {
      "text/plain": [
       "array(['a', 'b', 'c', 'd', 'e', 'f', 'g', 'h', 'i', 'j'], dtype='<U1')"
      ]
     },
     "execution_count": 36,
     "metadata": {},
     "output_type": "execute_result"
    }
   ],
   "source": [
    "letters[::] # everything from array"
   ]
  },
  {
   "cell_type": "code",
   "execution_count": 38,
   "id": "9bdd2b62",
   "metadata": {},
   "outputs": [
    {
     "data": {
      "text/plain": [
       "array(['c', 'd', 'e', 'f', 'g', 'h', 'i', 'j'], dtype='<U1')"
      ]
     },
     "execution_count": 38,
     "metadata": {},
     "output_type": "execute_result"
    }
   ],
   "source": [
    "letters[2:] # START  2 STOP end of array STEP 1"
   ]
  },
  {
   "cell_type": "code",
   "execution_count": 39,
   "id": "2b460880",
   "metadata": {},
   "outputs": [
    {
     "data": {
      "text/plain": [
       "array(['a', 'b', 'c', 'd', 'e', 'f', 'g'], dtype='<U1')"
      ]
     },
     "execution_count": 39,
     "metadata": {},
     "output_type": "execute_result"
    }
   ],
   "source": [
    "letters[:7] # START 0 STOP 7 STEP 1"
   ]
  },
  {
   "cell_type": "code",
   "execution_count": 40,
   "id": "b6e486aa",
   "metadata": {},
   "outputs": [
    {
     "data": {
      "text/plain": [
       "array(['c', 'd', 'e', 'f', 'g'], dtype='<U1')"
      ]
     },
     "execution_count": 40,
     "metadata": {},
     "output_type": "execute_result"
    }
   ],
   "source": [
    "letters[-8: -3] # START -8 STOP -3 STEP 1"
   ]
  },
  {
   "cell_type": "code",
   "execution_count": 41,
   "id": "1d97d636",
   "metadata": {},
   "outputs": [
    {
     "data": {
      "text/plain": [
       "array([ True,  True,  True,  True,  True])"
      ]
     },
     "execution_count": 41,
     "metadata": {},
     "output_type": "execute_result"
    }
   ],
   "source": [
    "letters[2:7] == letters[-8:-3]"
   ]
  },
  {
   "cell_type": "code",
   "execution_count": 42,
   "id": "6c27886d",
   "metadata": {},
   "outputs": [
    {
     "data": {
      "text/plain": [
       "array([], dtype='<U1')"
      ]
     },
     "execution_count": 42,
     "metadata": {},
     "output_type": "execute_result"
    }
   ],
   "source": [
    "letters[8:2] # START 8 STOP 2 STEP 1"
   ]
  },
  {
   "cell_type": "code",
   "execution_count": 43,
   "id": "9f79f85a",
   "metadata": {},
   "outputs": [
    {
     "data": {
      "text/plain": [
       "array(['i', 'h', 'g', 'f', 'e', 'd'], dtype='<U1')"
      ]
     },
     "execution_count": 43,
     "metadata": {},
     "output_type": "execute_result"
    }
   ],
   "source": [
    "letters[8:2:-1] # REVERSE  START 8 STOP 2 STEP -1"
   ]
  },
  {
   "cell_type": "code",
   "execution_count": 44,
   "id": "9d451d63",
   "metadata": {},
   "outputs": [
    {
     "data": {
      "text/plain": [
       "array(['h', 'g', 'f', 'e'], dtype='<U1')"
      ]
     },
     "execution_count": 44,
     "metadata": {},
     "output_type": "execute_result"
    }
   ],
   "source": [
    "letters[-3:-7:-1] "
   ]
  },
  {
   "cell_type": "code",
   "execution_count": 45,
   "id": "5ca217b9",
   "metadata": {},
   "outputs": [
    {
     "data": {
      "text/plain": [
       "array(['f', 'g', 'h', 'i', 'j'], dtype='<U1')"
      ]
     },
     "execution_count": 45,
     "metadata": {},
     "output_type": "execute_result"
    }
   ],
   "source": [
    "letters[-5:] # last 5 values in array"
   ]
  },
  {
   "cell_type": "code",
   "execution_count": 46,
   "id": "7d885d89",
   "metadata": {},
   "outputs": [
    {
     "data": {
      "text/plain": [
       "array(['a', 'b', 'c', 'd', 'e', 'f', 'g', 'h', 'i'], dtype='<U1')"
      ]
     },
     "execution_count": 46,
     "metadata": {},
     "output_type": "execute_result"
    }
   ],
   "source": [
    "# everything excpet last index value\n",
    "letters[0:-1]"
   ]
  },
  {
   "cell_type": "code",
   "execution_count": 47,
   "id": "b447c161",
   "metadata": {},
   "outputs": [
    {
     "data": {
      "text/plain": [
       "array(['a', 'b', 'c', 'd', 'e', 'f', 'g', 'h', 'i'], dtype='<U1')"
      ]
     },
     "execution_count": 47,
     "metadata": {},
     "output_type": "execute_result"
    }
   ],
   "source": [
    "letters[:-1]"
   ]
  },
  {
   "cell_type": "code",
   "execution_count": 48,
   "id": "8b49d943",
   "metadata": {},
   "outputs": [
    {
     "data": {
      "text/plain": [
       "array(['a', 'b', 'c', 'd', 'e', 'f', 'g', 'h'], dtype='<U1')"
      ]
     },
     "execution_count": 48,
     "metadata": {},
     "output_type": "execute_result"
    }
   ],
   "source": [
    "letters[:-2] # everything except last 2 index value\n"
   ]
  },
  {
   "cell_type": "code",
   "execution_count": 49,
   "id": "75d9f2f9",
   "metadata": {},
   "outputs": [
    {
     "data": {
      "text/plain": [
       "array(['a', 'd', 'g', 'j'], dtype='<U1')"
      ]
     },
     "execution_count": 49,
     "metadata": {},
     "output_type": "execute_result"
    }
   ],
   "source": [
    "# every 3rd element in the array \n",
    "letters[::3]"
   ]
  },
  {
   "cell_type": "code",
   "execution_count": 51,
   "id": "58612e68",
   "metadata": {},
   "outputs": [
    {
     "data": {
      "text/plain": [
       "array(['j', 'g', 'd', 'a'], dtype='<U1')"
      ]
     },
     "execution_count": 51,
     "metadata": {},
     "output_type": "execute_result"
    }
   ],
   "source": [
    "# every 3rd element in the arry a backward\n",
    "letters[::-3]"
   ]
  },
  {
   "cell_type": "markdown",
   "id": "a720b595",
   "metadata": {},
   "source": [
    "# Multiple Array Operations"
   ]
  },
  {
   "cell_type": "code",
   "execution_count": 53,
   "id": "d37cec72",
   "metadata": {},
   "outputs": [
    {
     "name": "stdout",
     "output_type": "stream",
     "text": [
      "[ 0  1  2  3  4  5  6  7  8  9 10 11 12 13 14 15 16 17 18 19]\n",
      "[0 1 2 3 4 5 6 7 8 9]\n",
      "False\n"
     ]
    }
   ],
   "source": [
    "a1 = np.arange(20)\n",
    "a2 = np.arange(10)\n",
    "\n",
    "print(a1)\n",
    "print(a2)\n",
    "print(a1.shape == a2.shape)"
   ]
  },
  {
   "cell_type": "code",
   "execution_count": 54,
   "id": "cc359470",
   "metadata": {},
   "outputs": [
    {
     "ename": "ValueError",
     "evalue": "operands could not be broadcast together with shapes (20,) (10,) ",
     "output_type": "error",
     "traceback": [
      "\u001b[0;31m---------------------------------------------------------------------------\u001b[0m",
      "\u001b[0;31mValueError\u001b[0m                                Traceback (most recent call last)",
      "Cell \u001b[0;32mIn[54], line 1\u001b[0m\n\u001b[0;32m----> 1\u001b[0m \u001b[43ma1\u001b[49m\u001b[43m \u001b[49m\u001b[38;5;241;43m+\u001b[39;49m\u001b[43m \u001b[49m\u001b[43ma2\u001b[49m\n",
      "\u001b[0;31mValueError\u001b[0m: operands could not be broadcast together with shapes (20,) (10,) "
     ]
    }
   ],
   "source": [
    "a1 + a2\n"
   ]
  },
  {
   "cell_type": "code",
   "execution_count": 58,
   "id": "0407cd5b",
   "metadata": {},
   "outputs": [
    {
     "data": {
      "text/plain": [
       "array([ 0,  2,  4,  6,  8, 10, 12, 14, 16, 18])"
      ]
     },
     "execution_count": 58,
     "metadata": {},
     "output_type": "execute_result"
    }
   ],
   "source": [
    "a1[0:10]+a2\n"
   ]
  },
  {
   "cell_type": "markdown",
   "id": "158fd2cd",
   "metadata": {},
   "source": [
    "# Assignemnet : : Finance data Analysis"
   ]
  },
  {
   "cell_type": "code",
   "execution_count": 59,
   "id": "865791d9",
   "metadata": {},
   "outputs": [],
   "source": [
    "# input data\n",
    "revenue = [14574.49, 7606.46, 8611.41, 9175.41, 8058.65, 8105.44, 11496.28, 9766.09, 10305.32, 14379.96, 10713.97, 15433.50]\n",
    "\n",
    "expenses = [12051.82, 5695.07, 12319.20, 12089.72, 8658.57, 840.20, 3285.73, 5821.12, 6976.93, 16618.61, 10054.37, 3803.96]"
   ]
  },
  {
   "cell_type": "code",
   "execution_count": 63,
   "id": "e9187ab1",
   "metadata": {},
   "outputs": [
    {
     "name": "stdout",
     "output_type": "stream",
     "text": [
      "<class 'list'>\n",
      "<class 'list'>\n"
     ]
    }
   ],
   "source": [
    "print(type(revenue))\n",
    "print(type(expenses))"
   ]
  },
  {
   "cell_type": "code",
   "execution_count": 64,
   "id": "a0ce0409",
   "metadata": {},
   "outputs": [],
   "source": [
    "revenue = np.array(revenue)\n",
    "expenses = np.array(expenses)"
   ]
  },
  {
   "cell_type": "code",
   "execution_count": 65,
   "id": "cfc6f307",
   "metadata": {},
   "outputs": [
    {
     "name": "stdout",
     "output_type": "stream",
     "text": [
      "<class 'numpy.ndarray'>\n",
      "<class 'numpy.ndarray'>\n"
     ]
    }
   ],
   "source": [
    "print(type(revenue))\n",
    "print(type(expenses))"
   ]
  },
  {
   "cell_type": "code",
   "execution_count": 70,
   "id": "8a4df3fd",
   "metadata": {},
   "outputs": [
    {
     "data": {
      "text/plain": [
       "array([ 2522.67,  1911.39, -3707.79, -2914.31,  -599.92,  7265.24,\n",
       "        8210.55,  3944.97,  3328.39, -2238.65,   659.6 , 11629.54])"
      ]
     },
     "execution_count": 70,
     "metadata": {},
     "output_type": "execute_result"
    }
   ],
   "source": [
    "# we need to calcualate monthly profit for all months\n",
    "monthly_profit = revenue-expenses\n",
    "monthly_profit"
   ]
  },
  {
   "cell_type": "code",
   "execution_count": 76,
   "id": "5d2455a8",
   "metadata": {},
   "outputs": [
    {
     "data": {
      "text/plain": [
       "array([ 1765.869,  1337.973, -2595.453, -2040.017,  -419.944,  5085.668,\n",
       "        5747.385,  2761.479,  2329.873, -1567.055,   461.72 ,  8140.678])"
      ]
     },
     "execution_count": 76,
     "metadata": {},
     "output_type": "execute_result"
    }
   ],
   "source": [
    "# Calculate Profit after Tax (PAT), tax amount 30% on monthly profit, for all months\n",
    "PAT = monthly_profit*0.7\n",
    "PAT"
   ]
  },
  {
   "cell_type": "code",
   "execution_count": 67,
   "id": "e4f45b46",
   "metadata": {},
   "outputs": [],
   "source": [
    "# Profit Margin, PAT divided by revenue, calculate as percentage with 0 decimals\n",
    "# and represents as int datatype"
   ]
  },
  {
   "cell_type": "code",
   "execution_count": 68,
   "id": "5a0df3e3",
   "metadata": {},
   "outputs": [],
   "source": [
    "# Get Boolean array for best month\n",
    "# Best month is where PAT is more than average of all months PAT"
   ]
  },
  {
   "cell_type": "code",
   "execution_count": null,
   "id": "d4bd3925",
   "metadata": {},
   "outputs": [],
   "source": [
    "# Get Boolen array for worst month\n",
    "# Worst month is where PAT is less than average of all months PAT"
   ]
  }
 ],
 "metadata": {
  "kernelspec": {
   "display_name": "Python 3 (ipykernel)",
   "language": "python",
   "name": "python3"
  },
  "language_info": {
   "codemirror_mode": {
    "name": "ipython",
    "version": 3
   },
   "file_extension": ".py",
   "mimetype": "text/x-python",
   "name": "python",
   "nbconvert_exporter": "python",
   "pygments_lexer": "ipython3",
   "version": "3.11.4"
  }
 },
 "nbformat": 4,
 "nbformat_minor": 5
}
